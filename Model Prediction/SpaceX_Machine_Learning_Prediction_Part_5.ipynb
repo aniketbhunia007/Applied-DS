{
  "nbformat": 4,
  "nbformat_minor": 0,
  "metadata": {
    "kernelspec": {
      "display_name": "Python 3",
      "language": "python",
      "name": "python3"
    },
    "language_info": {
      "codemirror_mode": {
        "name": "ipython",
        "version": 3
      },
      "file_extension": ".py",
      "mimetype": "text/x-python",
      "name": "python",
      "nbconvert_exporter": "python",
      "pygments_lexer": "ipython3",
      "version": "3.8.8"
    },
    "colab": {
      "name": "SpaceX_Machine Learning Prediction_Part_5.ipynb",
      "provenance": []
    }
  },
  "cells": [
    {
      "cell_type": "markdown",
      "metadata": {
        "id": "HGxpLVeNBgWw"
      },
      "source": [
        "<center>\n",
        "    <img src=\"https://gitlab.com/ibm/skills-network/courses/placeholder101/-/raw/master/labs/module%201/images/IDSNlogo.png\" width=\"300\" alt=\"cognitiveclass.ai logo\"  />\n",
        "</center>\n"
      ]
    },
    {
      "cell_type": "markdown",
      "metadata": {
        "id": "M_iJGzi8BgW3"
      },
      "source": [
        "# **Space X  Falcon 9 First Stage Landing Prediction**\n"
      ]
    },
    {
      "cell_type": "markdown",
      "metadata": {
        "id": "HOtYNx-TBgW8"
      },
      "source": [
        "## Assignment:  Machine Learning Prediction\n"
      ]
    },
    {
      "cell_type": "markdown",
      "metadata": {
        "id": "CzR3UfMYBgW-"
      },
      "source": [
        "Estimated time needed: **60** minutes\n"
      ]
    },
    {
      "cell_type": "markdown",
      "metadata": {
        "id": "Er7VK_eMBgW-"
      },
      "source": [
        "Space X advertises Falcon 9 rocket launches on its website with a cost of 62 million dollars; other providers cost upward of 165 million dollars each, much of the savings is because Space X can reuse the first stage. Therefore if we can determine if the first stage will land, we can determine the cost of a launch. This information can be used if an alternate company wants to bid against space X for a rocket launch.   In this lab, you will create a machine learning pipeline  to predict if the first stage will land given the data from the preceding labs.\n"
      ]
    },
    {
      "cell_type": "markdown",
      "metadata": {
        "id": "F7YuVClnBgXA"
      },
      "source": [
        "![](https://cf-courses-data.s3.us.cloud-object-storage.appdomain.cloud/IBMDeveloperSkillsNetwork-DS0701EN-SkillsNetwork/api/Images/landing\\_1.gif)\n"
      ]
    },
    {
      "cell_type": "markdown",
      "metadata": {
        "id": "6MlS9hUMBgXC"
      },
      "source": [
        "Several examples of an unsuccessful landing are shown here:\n"
      ]
    },
    {
      "cell_type": "markdown",
      "metadata": {
        "id": "-e3ccUMgBgXD"
      },
      "source": [
        "![](https://cf-courses-data.s3.us.cloud-object-storage.appdomain.cloud/IBMDeveloperSkillsNetwork-DS0701EN-SkillsNetwork/api/Images/crash.gif)\n"
      ]
    },
    {
      "cell_type": "markdown",
      "metadata": {
        "id": "1mVx-6hMBgXF"
      },
      "source": [
        "Most unsuccessful landings are planed. Space X; performs a controlled landing in the oceans.\n"
      ]
    },
    {
      "cell_type": "markdown",
      "metadata": {
        "id": "SRRH10zFBgXH"
      },
      "source": [
        "## Objectives\n"
      ]
    },
    {
      "cell_type": "markdown",
      "metadata": {
        "id": "ArsgTfKoBgXg"
      },
      "source": [
        "Perform exploratory  Data Analysis and determine Training Labels\n",
        "\n",
        "*   create a column for the class\n",
        "*   Standardize the data\n",
        "*   Split into training data and test data\n",
        "\n",
        "\\-Find best Hyperparameter for SVM, Classification Trees and Logistic Regression\n",
        "\n",
        "*   Find the method performs best using test data\n"
      ]
    },
    {
      "cell_type": "markdown",
      "metadata": {
        "id": "7upMpEH3BgXl"
      },
      "source": [
        ""
      ]
    },
    {
      "cell_type": "markdown",
      "metadata": {
        "id": "UvDELHEgBgXo"
      },
      "source": [
        "***\n"
      ]
    },
    {
      "cell_type": "markdown",
      "metadata": {
        "id": "6GSb_EddBgXp"
      },
      "source": [
        "## Import Libraries and Define Auxiliary Functions\n"
      ]
    },
    {
      "cell_type": "markdown",
      "metadata": {
        "id": "5ihZOiBZBgXp"
      },
      "source": [
        "We will import the following libraries for the lab\n"
      ]
    },
    {
      "cell_type": "code",
      "metadata": {
        "id": "CIxTJXI0BgXr"
      },
      "source": [
        "# Pandas is a software library written for the Python programming language for data manipulation and analysis.\n",
        "import pandas as pd\n",
        "# NumPy is a library for the Python programming language, adding support for large, multi-dimensional arrays and matrices, along with a large collection of high-level mathematical functions to operate on these arrays\n",
        "import numpy as np\n",
        "# Matplotlib is a plotting library for python and pyplot gives us a MatLab like plotting framework. We will use this in our plotter function to plot data.\n",
        "import matplotlib.pyplot as plt\n",
        "#Seaborn is a Python data visualization library based on matplotlib. It provides a high-level interface for drawing attractive and informative statistical graphics\n",
        "import seaborn as sns\n",
        "# Preprocessing allows us to standarsize our data\n",
        "from sklearn import preprocessing\n",
        "# Allows us to split our data into training and testing data\n",
        "from sklearn.model_selection import train_test_split\n",
        "# Allows us to test parameters of classification algorithms and find the best one\n",
        "from sklearn.model_selection import GridSearchCV\n",
        "# Logistic Regression classification algorithm\n",
        "from sklearn.linear_model import LogisticRegression\n",
        "# Support Vector Machine classification algorithm\n",
        "from sklearn.svm import SVC\n",
        "# Decision Tree classification algorithm\n",
        "from sklearn.tree import DecisionTreeClassifier\n",
        "# K Nearest Neighbors classification algorithm\n",
        "from sklearn.neighbors import KNeighborsClassifier"
      ],
      "execution_count": 1,
      "outputs": []
    },
    {
      "cell_type": "markdown",
      "metadata": {
        "id": "so3Un016BgXv"
      },
      "source": [
        "This function is to plot the confusion matrix.\n"
      ]
    },
    {
      "cell_type": "code",
      "metadata": {
        "id": "7Iz5crpaBgXv"
      },
      "source": [
        "def plot_confusion_matrix(y,y_predict):\n",
        "    \"this function plots the confusion matrix\"\n",
        "    from sklearn.metrics import confusion_matrix\n",
        "\n",
        "    cm = confusion_matrix(y, y_predict)\n",
        "    ax= plt.subplot()\n",
        "    sns.heatmap(cm, annot=True, ax = ax); #annot=True to annotate cells\n",
        "    ax.set_xlabel('Predicted labels')\n",
        "    ax.set_ylabel('True labels')\n",
        "    ax.set_title('Confusion Matrix'); \n",
        "    ax.xaxis.set_ticklabels(['did not land', 'land']); ax.yaxis.set_ticklabels(['did not land', 'landed'])"
      ],
      "execution_count": 2,
      "outputs": []
    },
    {
      "cell_type": "markdown",
      "metadata": {
        "id": "QNPXMxy7BgXx"
      },
      "source": [
        "## Load the dataframe\n"
      ]
    },
    {
      "cell_type": "markdown",
      "metadata": {
        "id": "kTAfOrYOBgXx"
      },
      "source": [
        "Load the data\n"
      ]
    },
    {
      "cell_type": "code",
      "metadata": {
        "colab": {
          "base_uri": "https://localhost:8080/",
          "height": 206
        },
        "id": "rbumVIAABgXx",
        "outputId": "dfb81041-d048-4481-acfc-2b3bfe8bebfb"
      },
      "source": [
        "data = pd.read_csv(\"https://cf-courses-data.s3.us.cloud-object-storage.appdomain.cloud/IBM-DS0321EN-SkillsNetwork/datasets/dataset_part_2.csv\")\n",
        "\n",
        "# If you were unable to complete the previous lab correctly you can uncomment and load this csv\n",
        "\n",
        "# data = pd.read_csv('https://cf-courses-data.s3.us.cloud-object-storage.appdomain.cloud/IBMDeveloperSkillsNetwork-DS0701EN-SkillsNetwork/api/dataset_part_2.csv')\n",
        "\n",
        "data.head()"
      ],
      "execution_count": 3,
      "outputs": [
        {
          "output_type": "execute_result",
          "data": {
            "text/html": [
              "<div>\n",
              "<style scoped>\n",
              "    .dataframe tbody tr th:only-of-type {\n",
              "        vertical-align: middle;\n",
              "    }\n",
              "\n",
              "    .dataframe tbody tr th {\n",
              "        vertical-align: top;\n",
              "    }\n",
              "\n",
              "    .dataframe thead th {\n",
              "        text-align: right;\n",
              "    }\n",
              "</style>\n",
              "<table border=\"1\" class=\"dataframe\">\n",
              "  <thead>\n",
              "    <tr style=\"text-align: right;\">\n",
              "      <th></th>\n",
              "      <th>FlightNumber</th>\n",
              "      <th>Date</th>\n",
              "      <th>BoosterVersion</th>\n",
              "      <th>PayloadMass</th>\n",
              "      <th>Orbit</th>\n",
              "      <th>LaunchSite</th>\n",
              "      <th>Outcome</th>\n",
              "      <th>Flights</th>\n",
              "      <th>GridFins</th>\n",
              "      <th>Reused</th>\n",
              "      <th>Legs</th>\n",
              "      <th>LandingPad</th>\n",
              "      <th>Block</th>\n",
              "      <th>ReusedCount</th>\n",
              "      <th>Serial</th>\n",
              "      <th>Longitude</th>\n",
              "      <th>Latitude</th>\n",
              "      <th>Class</th>\n",
              "    </tr>\n",
              "  </thead>\n",
              "  <tbody>\n",
              "    <tr>\n",
              "      <th>0</th>\n",
              "      <td>1</td>\n",
              "      <td>2010-06-04</td>\n",
              "      <td>Falcon 9</td>\n",
              "      <td>6104.959412</td>\n",
              "      <td>LEO</td>\n",
              "      <td>CCAFS SLC 40</td>\n",
              "      <td>None None</td>\n",
              "      <td>1</td>\n",
              "      <td>False</td>\n",
              "      <td>False</td>\n",
              "      <td>False</td>\n",
              "      <td>NaN</td>\n",
              "      <td>1.0</td>\n",
              "      <td>0</td>\n",
              "      <td>B0003</td>\n",
              "      <td>-80.577366</td>\n",
              "      <td>28.561857</td>\n",
              "      <td>0</td>\n",
              "    </tr>\n",
              "    <tr>\n",
              "      <th>1</th>\n",
              "      <td>2</td>\n",
              "      <td>2012-05-22</td>\n",
              "      <td>Falcon 9</td>\n",
              "      <td>525.000000</td>\n",
              "      <td>LEO</td>\n",
              "      <td>CCAFS SLC 40</td>\n",
              "      <td>None None</td>\n",
              "      <td>1</td>\n",
              "      <td>False</td>\n",
              "      <td>False</td>\n",
              "      <td>False</td>\n",
              "      <td>NaN</td>\n",
              "      <td>1.0</td>\n",
              "      <td>0</td>\n",
              "      <td>B0005</td>\n",
              "      <td>-80.577366</td>\n",
              "      <td>28.561857</td>\n",
              "      <td>0</td>\n",
              "    </tr>\n",
              "    <tr>\n",
              "      <th>2</th>\n",
              "      <td>3</td>\n",
              "      <td>2013-03-01</td>\n",
              "      <td>Falcon 9</td>\n",
              "      <td>677.000000</td>\n",
              "      <td>ISS</td>\n",
              "      <td>CCAFS SLC 40</td>\n",
              "      <td>None None</td>\n",
              "      <td>1</td>\n",
              "      <td>False</td>\n",
              "      <td>False</td>\n",
              "      <td>False</td>\n",
              "      <td>NaN</td>\n",
              "      <td>1.0</td>\n",
              "      <td>0</td>\n",
              "      <td>B0007</td>\n",
              "      <td>-80.577366</td>\n",
              "      <td>28.561857</td>\n",
              "      <td>0</td>\n",
              "    </tr>\n",
              "    <tr>\n",
              "      <th>3</th>\n",
              "      <td>4</td>\n",
              "      <td>2013-09-29</td>\n",
              "      <td>Falcon 9</td>\n",
              "      <td>500.000000</td>\n",
              "      <td>PO</td>\n",
              "      <td>VAFB SLC 4E</td>\n",
              "      <td>False Ocean</td>\n",
              "      <td>1</td>\n",
              "      <td>False</td>\n",
              "      <td>False</td>\n",
              "      <td>False</td>\n",
              "      <td>NaN</td>\n",
              "      <td>1.0</td>\n",
              "      <td>0</td>\n",
              "      <td>B1003</td>\n",
              "      <td>-120.610829</td>\n",
              "      <td>34.632093</td>\n",
              "      <td>0</td>\n",
              "    </tr>\n",
              "    <tr>\n",
              "      <th>4</th>\n",
              "      <td>5</td>\n",
              "      <td>2013-12-03</td>\n",
              "      <td>Falcon 9</td>\n",
              "      <td>3170.000000</td>\n",
              "      <td>GTO</td>\n",
              "      <td>CCAFS SLC 40</td>\n",
              "      <td>None None</td>\n",
              "      <td>1</td>\n",
              "      <td>False</td>\n",
              "      <td>False</td>\n",
              "      <td>False</td>\n",
              "      <td>NaN</td>\n",
              "      <td>1.0</td>\n",
              "      <td>0</td>\n",
              "      <td>B1004</td>\n",
              "      <td>-80.577366</td>\n",
              "      <td>28.561857</td>\n",
              "      <td>0</td>\n",
              "    </tr>\n",
              "  </tbody>\n",
              "</table>\n",
              "</div>"
            ],
            "text/plain": [
              "   FlightNumber        Date BoosterVersion  ...   Longitude   Latitude Class\n",
              "0             1  2010-06-04       Falcon 9  ...  -80.577366  28.561857     0\n",
              "1             2  2012-05-22       Falcon 9  ...  -80.577366  28.561857     0\n",
              "2             3  2013-03-01       Falcon 9  ...  -80.577366  28.561857     0\n",
              "3             4  2013-09-29       Falcon 9  ... -120.610829  34.632093     0\n",
              "4             5  2013-12-03       Falcon 9  ...  -80.577366  28.561857     0\n",
              "\n",
              "[5 rows x 18 columns]"
            ]
          },
          "metadata": {},
          "execution_count": 3
        }
      ]
    },
    {
      "cell_type": "code",
      "metadata": {
        "colab": {
          "base_uri": "https://localhost:8080/",
          "height": 461
        },
        "id": "GziEz58xBgXy",
        "outputId": "d3304856-0b2e-407b-c177-9783ac94897c"
      },
      "source": [
        "X = pd.read_csv('https://cf-courses-data.s3.us.cloud-object-storage.appdomain.cloud/IBM-DS0321EN-SkillsNetwork/datasets/dataset_part_3.csv')\n",
        "\n",
        "# If you were unable to complete the previous lab correctly you can uncomment and load this csv\n",
        "\n",
        "# X = pd.read_csv('https://cf-courses-data.s3.us.cloud-object-storage.appdomain.cloud/IBMDeveloperSkillsNetwork-DS0701EN-SkillsNetwork/api/dataset_part_3.csv')\n",
        "\n",
        "X.head(100)"
      ],
      "execution_count": 4,
      "outputs": [
        {
          "output_type": "execute_result",
          "data": {
            "text/html": [
              "<div>\n",
              "<style scoped>\n",
              "    .dataframe tbody tr th:only-of-type {\n",
              "        vertical-align: middle;\n",
              "    }\n",
              "\n",
              "    .dataframe tbody tr th {\n",
              "        vertical-align: top;\n",
              "    }\n",
              "\n",
              "    .dataframe thead th {\n",
              "        text-align: right;\n",
              "    }\n",
              "</style>\n",
              "<table border=\"1\" class=\"dataframe\">\n",
              "  <thead>\n",
              "    <tr style=\"text-align: right;\">\n",
              "      <th></th>\n",
              "      <th>FlightNumber</th>\n",
              "      <th>PayloadMass</th>\n",
              "      <th>Flights</th>\n",
              "      <th>Block</th>\n",
              "      <th>ReusedCount</th>\n",
              "      <th>Orbit_ES-L1</th>\n",
              "      <th>Orbit_GEO</th>\n",
              "      <th>Orbit_GTO</th>\n",
              "      <th>Orbit_HEO</th>\n",
              "      <th>Orbit_ISS</th>\n",
              "      <th>Orbit_LEO</th>\n",
              "      <th>Orbit_MEO</th>\n",
              "      <th>Orbit_PO</th>\n",
              "      <th>Orbit_SO</th>\n",
              "      <th>Orbit_SSO</th>\n",
              "      <th>Orbit_VLEO</th>\n",
              "      <th>LaunchSite_CCAFS SLC 40</th>\n",
              "      <th>LaunchSite_KSC LC 39A</th>\n",
              "      <th>LaunchSite_VAFB SLC 4E</th>\n",
              "      <th>LandingPad_5e9e3032383ecb267a34e7c7</th>\n",
              "      <th>LandingPad_5e9e3032383ecb554034e7c9</th>\n",
              "      <th>LandingPad_5e9e3032383ecb6bb234e7ca</th>\n",
              "      <th>LandingPad_5e9e3032383ecb761634e7cb</th>\n",
              "      <th>LandingPad_5e9e3033383ecbb9e534e7cc</th>\n",
              "      <th>Serial_B0003</th>\n",
              "      <th>Serial_B0005</th>\n",
              "      <th>Serial_B0007</th>\n",
              "      <th>Serial_B1003</th>\n",
              "      <th>Serial_B1004</th>\n",
              "      <th>Serial_B1005</th>\n",
              "      <th>Serial_B1006</th>\n",
              "      <th>Serial_B1007</th>\n",
              "      <th>Serial_B1008</th>\n",
              "      <th>Serial_B1010</th>\n",
              "      <th>Serial_B1011</th>\n",
              "      <th>Serial_B1012</th>\n",
              "      <th>Serial_B1013</th>\n",
              "      <th>Serial_B1015</th>\n",
              "      <th>Serial_B1016</th>\n",
              "      <th>Serial_B1017</th>\n",
              "      <th>...</th>\n",
              "      <th>Serial_B1021</th>\n",
              "      <th>Serial_B1022</th>\n",
              "      <th>Serial_B1023</th>\n",
              "      <th>Serial_B1025</th>\n",
              "      <th>Serial_B1026</th>\n",
              "      <th>Serial_B1028</th>\n",
              "      <th>Serial_B1029</th>\n",
              "      <th>Serial_B1030</th>\n",
              "      <th>Serial_B1031</th>\n",
              "      <th>Serial_B1032</th>\n",
              "      <th>Serial_B1034</th>\n",
              "      <th>Serial_B1035</th>\n",
              "      <th>Serial_B1036</th>\n",
              "      <th>Serial_B1037</th>\n",
              "      <th>Serial_B1038</th>\n",
              "      <th>Serial_B1039</th>\n",
              "      <th>Serial_B1040</th>\n",
              "      <th>Serial_B1041</th>\n",
              "      <th>Serial_B1042</th>\n",
              "      <th>Serial_B1043</th>\n",
              "      <th>Serial_B1044</th>\n",
              "      <th>Serial_B1045</th>\n",
              "      <th>Serial_B1046</th>\n",
              "      <th>Serial_B1047</th>\n",
              "      <th>Serial_B1048</th>\n",
              "      <th>Serial_B1049</th>\n",
              "      <th>Serial_B1050</th>\n",
              "      <th>Serial_B1051</th>\n",
              "      <th>Serial_B1054</th>\n",
              "      <th>Serial_B1056</th>\n",
              "      <th>Serial_B1058</th>\n",
              "      <th>Serial_B1059</th>\n",
              "      <th>Serial_B1060</th>\n",
              "      <th>Serial_B1062</th>\n",
              "      <th>GridFins_False</th>\n",
              "      <th>GridFins_True</th>\n",
              "      <th>Reused_False</th>\n",
              "      <th>Reused_True</th>\n",
              "      <th>Legs_False</th>\n",
              "      <th>Legs_True</th>\n",
              "    </tr>\n",
              "  </thead>\n",
              "  <tbody>\n",
              "    <tr>\n",
              "      <th>0</th>\n",
              "      <td>1.0</td>\n",
              "      <td>6104.959412</td>\n",
              "      <td>1.0</td>\n",
              "      <td>1.0</td>\n",
              "      <td>0.0</td>\n",
              "      <td>0.0</td>\n",
              "      <td>0.0</td>\n",
              "      <td>0.0</td>\n",
              "      <td>0.0</td>\n",
              "      <td>0.0</td>\n",
              "      <td>1.0</td>\n",
              "      <td>0.0</td>\n",
              "      <td>0.0</td>\n",
              "      <td>0.0</td>\n",
              "      <td>0.0</td>\n",
              "      <td>0.0</td>\n",
              "      <td>1.0</td>\n",
              "      <td>0.0</td>\n",
              "      <td>0.0</td>\n",
              "      <td>0.0</td>\n",
              "      <td>0.0</td>\n",
              "      <td>0.0</td>\n",
              "      <td>0.0</td>\n",
              "      <td>0.0</td>\n",
              "      <td>1.0</td>\n",
              "      <td>0.0</td>\n",
              "      <td>0.0</td>\n",
              "      <td>0.0</td>\n",
              "      <td>0.0</td>\n",
              "      <td>0.0</td>\n",
              "      <td>0.0</td>\n",
              "      <td>0.0</td>\n",
              "      <td>0.0</td>\n",
              "      <td>0.0</td>\n",
              "      <td>0.0</td>\n",
              "      <td>0.0</td>\n",
              "      <td>0.0</td>\n",
              "      <td>0.0</td>\n",
              "      <td>0.0</td>\n",
              "      <td>0.0</td>\n",
              "      <td>...</td>\n",
              "      <td>0.0</td>\n",
              "      <td>0.0</td>\n",
              "      <td>0.0</td>\n",
              "      <td>0.0</td>\n",
              "      <td>0.0</td>\n",
              "      <td>0.0</td>\n",
              "      <td>0.0</td>\n",
              "      <td>0.0</td>\n",
              "      <td>0.0</td>\n",
              "      <td>0.0</td>\n",
              "      <td>0.0</td>\n",
              "      <td>0.0</td>\n",
              "      <td>0.0</td>\n",
              "      <td>0.0</td>\n",
              "      <td>0.0</td>\n",
              "      <td>0.0</td>\n",
              "      <td>0.0</td>\n",
              "      <td>0.0</td>\n",
              "      <td>0.0</td>\n",
              "      <td>0.0</td>\n",
              "      <td>0.0</td>\n",
              "      <td>0.0</td>\n",
              "      <td>0.0</td>\n",
              "      <td>0.0</td>\n",
              "      <td>0.0</td>\n",
              "      <td>0.0</td>\n",
              "      <td>0.0</td>\n",
              "      <td>0.0</td>\n",
              "      <td>0.0</td>\n",
              "      <td>0.0</td>\n",
              "      <td>0.0</td>\n",
              "      <td>0.0</td>\n",
              "      <td>0.0</td>\n",
              "      <td>0.0</td>\n",
              "      <td>1.0</td>\n",
              "      <td>0.0</td>\n",
              "      <td>1.0</td>\n",
              "      <td>0.0</td>\n",
              "      <td>1.0</td>\n",
              "      <td>0.0</td>\n",
              "    </tr>\n",
              "    <tr>\n",
              "      <th>1</th>\n",
              "      <td>2.0</td>\n",
              "      <td>525.000000</td>\n",
              "      <td>1.0</td>\n",
              "      <td>1.0</td>\n",
              "      <td>0.0</td>\n",
              "      <td>0.0</td>\n",
              "      <td>0.0</td>\n",
              "      <td>0.0</td>\n",
              "      <td>0.0</td>\n",
              "      <td>0.0</td>\n",
              "      <td>1.0</td>\n",
              "      <td>0.0</td>\n",
              "      <td>0.0</td>\n",
              "      <td>0.0</td>\n",
              "      <td>0.0</td>\n",
              "      <td>0.0</td>\n",
              "      <td>1.0</td>\n",
              "      <td>0.0</td>\n",
              "      <td>0.0</td>\n",
              "      <td>0.0</td>\n",
              "      <td>0.0</td>\n",
              "      <td>0.0</td>\n",
              "      <td>0.0</td>\n",
              "      <td>0.0</td>\n",
              "      <td>0.0</td>\n",
              "      <td>1.0</td>\n",
              "      <td>0.0</td>\n",
              "      <td>0.0</td>\n",
              "      <td>0.0</td>\n",
              "      <td>0.0</td>\n",
              "      <td>0.0</td>\n",
              "      <td>0.0</td>\n",
              "      <td>0.0</td>\n",
              "      <td>0.0</td>\n",
              "      <td>0.0</td>\n",
              "      <td>0.0</td>\n",
              "      <td>0.0</td>\n",
              "      <td>0.0</td>\n",
              "      <td>0.0</td>\n",
              "      <td>0.0</td>\n",
              "      <td>...</td>\n",
              "      <td>0.0</td>\n",
              "      <td>0.0</td>\n",
              "      <td>0.0</td>\n",
              "      <td>0.0</td>\n",
              "      <td>0.0</td>\n",
              "      <td>0.0</td>\n",
              "      <td>0.0</td>\n",
              "      <td>0.0</td>\n",
              "      <td>0.0</td>\n",
              "      <td>0.0</td>\n",
              "      <td>0.0</td>\n",
              "      <td>0.0</td>\n",
              "      <td>0.0</td>\n",
              "      <td>0.0</td>\n",
              "      <td>0.0</td>\n",
              "      <td>0.0</td>\n",
              "      <td>0.0</td>\n",
              "      <td>0.0</td>\n",
              "      <td>0.0</td>\n",
              "      <td>0.0</td>\n",
              "      <td>0.0</td>\n",
              "      <td>0.0</td>\n",
              "      <td>0.0</td>\n",
              "      <td>0.0</td>\n",
              "      <td>0.0</td>\n",
              "      <td>0.0</td>\n",
              "      <td>0.0</td>\n",
              "      <td>0.0</td>\n",
              "      <td>0.0</td>\n",
              "      <td>0.0</td>\n",
              "      <td>0.0</td>\n",
              "      <td>0.0</td>\n",
              "      <td>0.0</td>\n",
              "      <td>0.0</td>\n",
              "      <td>1.0</td>\n",
              "      <td>0.0</td>\n",
              "      <td>1.0</td>\n",
              "      <td>0.0</td>\n",
              "      <td>1.0</td>\n",
              "      <td>0.0</td>\n",
              "    </tr>\n",
              "    <tr>\n",
              "      <th>2</th>\n",
              "      <td>3.0</td>\n",
              "      <td>677.000000</td>\n",
              "      <td>1.0</td>\n",
              "      <td>1.0</td>\n",
              "      <td>0.0</td>\n",
              "      <td>0.0</td>\n",
              "      <td>0.0</td>\n",
              "      <td>0.0</td>\n",
              "      <td>0.0</td>\n",
              "      <td>1.0</td>\n",
              "      <td>0.0</td>\n",
              "      <td>0.0</td>\n",
              "      <td>0.0</td>\n",
              "      <td>0.0</td>\n",
              "      <td>0.0</td>\n",
              "      <td>0.0</td>\n",
              "      <td>1.0</td>\n",
              "      <td>0.0</td>\n",
              "      <td>0.0</td>\n",
              "      <td>0.0</td>\n",
              "      <td>0.0</td>\n",
              "      <td>0.0</td>\n",
              "      <td>0.0</td>\n",
              "      <td>0.0</td>\n",
              "      <td>0.0</td>\n",
              "      <td>0.0</td>\n",
              "      <td>1.0</td>\n",
              "      <td>0.0</td>\n",
              "      <td>0.0</td>\n",
              "      <td>0.0</td>\n",
              "      <td>0.0</td>\n",
              "      <td>0.0</td>\n",
              "      <td>0.0</td>\n",
              "      <td>0.0</td>\n",
              "      <td>0.0</td>\n",
              "      <td>0.0</td>\n",
              "      <td>0.0</td>\n",
              "      <td>0.0</td>\n",
              "      <td>0.0</td>\n",
              "      <td>0.0</td>\n",
              "      <td>...</td>\n",
              "      <td>0.0</td>\n",
              "      <td>0.0</td>\n",
              "      <td>0.0</td>\n",
              "      <td>0.0</td>\n",
              "      <td>0.0</td>\n",
              "      <td>0.0</td>\n",
              "      <td>0.0</td>\n",
              "      <td>0.0</td>\n",
              "      <td>0.0</td>\n",
              "      <td>0.0</td>\n",
              "      <td>0.0</td>\n",
              "      <td>0.0</td>\n",
              "      <td>0.0</td>\n",
              "      <td>0.0</td>\n",
              "      <td>0.0</td>\n",
              "      <td>0.0</td>\n",
              "      <td>0.0</td>\n",
              "      <td>0.0</td>\n",
              "      <td>0.0</td>\n",
              "      <td>0.0</td>\n",
              "      <td>0.0</td>\n",
              "      <td>0.0</td>\n",
              "      <td>0.0</td>\n",
              "      <td>0.0</td>\n",
              "      <td>0.0</td>\n",
              "      <td>0.0</td>\n",
              "      <td>0.0</td>\n",
              "      <td>0.0</td>\n",
              "      <td>0.0</td>\n",
              "      <td>0.0</td>\n",
              "      <td>0.0</td>\n",
              "      <td>0.0</td>\n",
              "      <td>0.0</td>\n",
              "      <td>0.0</td>\n",
              "      <td>1.0</td>\n",
              "      <td>0.0</td>\n",
              "      <td>1.0</td>\n",
              "      <td>0.0</td>\n",
              "      <td>1.0</td>\n",
              "      <td>0.0</td>\n",
              "    </tr>\n",
              "    <tr>\n",
              "      <th>3</th>\n",
              "      <td>4.0</td>\n",
              "      <td>500.000000</td>\n",
              "      <td>1.0</td>\n",
              "      <td>1.0</td>\n",
              "      <td>0.0</td>\n",
              "      <td>0.0</td>\n",
              "      <td>0.0</td>\n",
              "      <td>0.0</td>\n",
              "      <td>0.0</td>\n",
              "      <td>0.0</td>\n",
              "      <td>0.0</td>\n",
              "      <td>0.0</td>\n",
              "      <td>1.0</td>\n",
              "      <td>0.0</td>\n",
              "      <td>0.0</td>\n",
              "      <td>0.0</td>\n",
              "      <td>0.0</td>\n",
              "      <td>0.0</td>\n",
              "      <td>1.0</td>\n",
              "      <td>0.0</td>\n",
              "      <td>0.0</td>\n",
              "      <td>0.0</td>\n",
              "      <td>0.0</td>\n",
              "      <td>0.0</td>\n",
              "      <td>0.0</td>\n",
              "      <td>0.0</td>\n",
              "      <td>0.0</td>\n",
              "      <td>1.0</td>\n",
              "      <td>0.0</td>\n",
              "      <td>0.0</td>\n",
              "      <td>0.0</td>\n",
              "      <td>0.0</td>\n",
              "      <td>0.0</td>\n",
              "      <td>0.0</td>\n",
              "      <td>0.0</td>\n",
              "      <td>0.0</td>\n",
              "      <td>0.0</td>\n",
              "      <td>0.0</td>\n",
              "      <td>0.0</td>\n",
              "      <td>0.0</td>\n",
              "      <td>...</td>\n",
              "      <td>0.0</td>\n",
              "      <td>0.0</td>\n",
              "      <td>0.0</td>\n",
              "      <td>0.0</td>\n",
              "      <td>0.0</td>\n",
              "      <td>0.0</td>\n",
              "      <td>0.0</td>\n",
              "      <td>0.0</td>\n",
              "      <td>0.0</td>\n",
              "      <td>0.0</td>\n",
              "      <td>0.0</td>\n",
              "      <td>0.0</td>\n",
              "      <td>0.0</td>\n",
              "      <td>0.0</td>\n",
              "      <td>0.0</td>\n",
              "      <td>0.0</td>\n",
              "      <td>0.0</td>\n",
              "      <td>0.0</td>\n",
              "      <td>0.0</td>\n",
              "      <td>0.0</td>\n",
              "      <td>0.0</td>\n",
              "      <td>0.0</td>\n",
              "      <td>0.0</td>\n",
              "      <td>0.0</td>\n",
              "      <td>0.0</td>\n",
              "      <td>0.0</td>\n",
              "      <td>0.0</td>\n",
              "      <td>0.0</td>\n",
              "      <td>0.0</td>\n",
              "      <td>0.0</td>\n",
              "      <td>0.0</td>\n",
              "      <td>0.0</td>\n",
              "      <td>0.0</td>\n",
              "      <td>0.0</td>\n",
              "      <td>1.0</td>\n",
              "      <td>0.0</td>\n",
              "      <td>1.0</td>\n",
              "      <td>0.0</td>\n",
              "      <td>1.0</td>\n",
              "      <td>0.0</td>\n",
              "    </tr>\n",
              "    <tr>\n",
              "      <th>4</th>\n",
              "      <td>5.0</td>\n",
              "      <td>3170.000000</td>\n",
              "      <td>1.0</td>\n",
              "      <td>1.0</td>\n",
              "      <td>0.0</td>\n",
              "      <td>0.0</td>\n",
              "      <td>0.0</td>\n",
              "      <td>1.0</td>\n",
              "      <td>0.0</td>\n",
              "      <td>0.0</td>\n",
              "      <td>0.0</td>\n",
              "      <td>0.0</td>\n",
              "      <td>0.0</td>\n",
              "      <td>0.0</td>\n",
              "      <td>0.0</td>\n",
              "      <td>0.0</td>\n",
              "      <td>1.0</td>\n",
              "      <td>0.0</td>\n",
              "      <td>0.0</td>\n",
              "      <td>0.0</td>\n",
              "      <td>0.0</td>\n",
              "      <td>0.0</td>\n",
              "      <td>0.0</td>\n",
              "      <td>0.0</td>\n",
              "      <td>0.0</td>\n",
              "      <td>0.0</td>\n",
              "      <td>0.0</td>\n",
              "      <td>0.0</td>\n",
              "      <td>1.0</td>\n",
              "      <td>0.0</td>\n",
              "      <td>0.0</td>\n",
              "      <td>0.0</td>\n",
              "      <td>0.0</td>\n",
              "      <td>0.0</td>\n",
              "      <td>0.0</td>\n",
              "      <td>0.0</td>\n",
              "      <td>0.0</td>\n",
              "      <td>0.0</td>\n",
              "      <td>0.0</td>\n",
              "      <td>0.0</td>\n",
              "      <td>...</td>\n",
              "      <td>0.0</td>\n",
              "      <td>0.0</td>\n",
              "      <td>0.0</td>\n",
              "      <td>0.0</td>\n",
              "      <td>0.0</td>\n",
              "      <td>0.0</td>\n",
              "      <td>0.0</td>\n",
              "      <td>0.0</td>\n",
              "      <td>0.0</td>\n",
              "      <td>0.0</td>\n",
              "      <td>0.0</td>\n",
              "      <td>0.0</td>\n",
              "      <td>0.0</td>\n",
              "      <td>0.0</td>\n",
              "      <td>0.0</td>\n",
              "      <td>0.0</td>\n",
              "      <td>0.0</td>\n",
              "      <td>0.0</td>\n",
              "      <td>0.0</td>\n",
              "      <td>0.0</td>\n",
              "      <td>0.0</td>\n",
              "      <td>0.0</td>\n",
              "      <td>0.0</td>\n",
              "      <td>0.0</td>\n",
              "      <td>0.0</td>\n",
              "      <td>0.0</td>\n",
              "      <td>0.0</td>\n",
              "      <td>0.0</td>\n",
              "      <td>0.0</td>\n",
              "      <td>0.0</td>\n",
              "      <td>0.0</td>\n",
              "      <td>0.0</td>\n",
              "      <td>0.0</td>\n",
              "      <td>0.0</td>\n",
              "      <td>1.0</td>\n",
              "      <td>0.0</td>\n",
              "      <td>1.0</td>\n",
              "      <td>0.0</td>\n",
              "      <td>1.0</td>\n",
              "      <td>0.0</td>\n",
              "    </tr>\n",
              "    <tr>\n",
              "      <th>...</th>\n",
              "      <td>...</td>\n",
              "      <td>...</td>\n",
              "      <td>...</td>\n",
              "      <td>...</td>\n",
              "      <td>...</td>\n",
              "      <td>...</td>\n",
              "      <td>...</td>\n",
              "      <td>...</td>\n",
              "      <td>...</td>\n",
              "      <td>...</td>\n",
              "      <td>...</td>\n",
              "      <td>...</td>\n",
              "      <td>...</td>\n",
              "      <td>...</td>\n",
              "      <td>...</td>\n",
              "      <td>...</td>\n",
              "      <td>...</td>\n",
              "      <td>...</td>\n",
              "      <td>...</td>\n",
              "      <td>...</td>\n",
              "      <td>...</td>\n",
              "      <td>...</td>\n",
              "      <td>...</td>\n",
              "      <td>...</td>\n",
              "      <td>...</td>\n",
              "      <td>...</td>\n",
              "      <td>...</td>\n",
              "      <td>...</td>\n",
              "      <td>...</td>\n",
              "      <td>...</td>\n",
              "      <td>...</td>\n",
              "      <td>...</td>\n",
              "      <td>...</td>\n",
              "      <td>...</td>\n",
              "      <td>...</td>\n",
              "      <td>...</td>\n",
              "      <td>...</td>\n",
              "      <td>...</td>\n",
              "      <td>...</td>\n",
              "      <td>...</td>\n",
              "      <td>...</td>\n",
              "      <td>...</td>\n",
              "      <td>...</td>\n",
              "      <td>...</td>\n",
              "      <td>...</td>\n",
              "      <td>...</td>\n",
              "      <td>...</td>\n",
              "      <td>...</td>\n",
              "      <td>...</td>\n",
              "      <td>...</td>\n",
              "      <td>...</td>\n",
              "      <td>...</td>\n",
              "      <td>...</td>\n",
              "      <td>...</td>\n",
              "      <td>...</td>\n",
              "      <td>...</td>\n",
              "      <td>...</td>\n",
              "      <td>...</td>\n",
              "      <td>...</td>\n",
              "      <td>...</td>\n",
              "      <td>...</td>\n",
              "      <td>...</td>\n",
              "      <td>...</td>\n",
              "      <td>...</td>\n",
              "      <td>...</td>\n",
              "      <td>...</td>\n",
              "      <td>...</td>\n",
              "      <td>...</td>\n",
              "      <td>...</td>\n",
              "      <td>...</td>\n",
              "      <td>...</td>\n",
              "      <td>...</td>\n",
              "      <td>...</td>\n",
              "      <td>...</td>\n",
              "      <td>...</td>\n",
              "      <td>...</td>\n",
              "      <td>...</td>\n",
              "      <td>...</td>\n",
              "      <td>...</td>\n",
              "      <td>...</td>\n",
              "      <td>...</td>\n",
              "    </tr>\n",
              "    <tr>\n",
              "      <th>85</th>\n",
              "      <td>86.0</td>\n",
              "      <td>15400.000000</td>\n",
              "      <td>2.0</td>\n",
              "      <td>5.0</td>\n",
              "      <td>2.0</td>\n",
              "      <td>0.0</td>\n",
              "      <td>0.0</td>\n",
              "      <td>0.0</td>\n",
              "      <td>0.0</td>\n",
              "      <td>0.0</td>\n",
              "      <td>0.0</td>\n",
              "      <td>0.0</td>\n",
              "      <td>0.0</td>\n",
              "      <td>0.0</td>\n",
              "      <td>0.0</td>\n",
              "      <td>1.0</td>\n",
              "      <td>0.0</td>\n",
              "      <td>1.0</td>\n",
              "      <td>0.0</td>\n",
              "      <td>0.0</td>\n",
              "      <td>0.0</td>\n",
              "      <td>1.0</td>\n",
              "      <td>0.0</td>\n",
              "      <td>0.0</td>\n",
              "      <td>0.0</td>\n",
              "      <td>0.0</td>\n",
              "      <td>0.0</td>\n",
              "      <td>0.0</td>\n",
              "      <td>0.0</td>\n",
              "      <td>0.0</td>\n",
              "      <td>0.0</td>\n",
              "      <td>0.0</td>\n",
              "      <td>0.0</td>\n",
              "      <td>0.0</td>\n",
              "      <td>0.0</td>\n",
              "      <td>0.0</td>\n",
              "      <td>0.0</td>\n",
              "      <td>0.0</td>\n",
              "      <td>0.0</td>\n",
              "      <td>0.0</td>\n",
              "      <td>...</td>\n",
              "      <td>0.0</td>\n",
              "      <td>0.0</td>\n",
              "      <td>0.0</td>\n",
              "      <td>0.0</td>\n",
              "      <td>0.0</td>\n",
              "      <td>0.0</td>\n",
              "      <td>0.0</td>\n",
              "      <td>0.0</td>\n",
              "      <td>0.0</td>\n",
              "      <td>0.0</td>\n",
              "      <td>0.0</td>\n",
              "      <td>0.0</td>\n",
              "      <td>0.0</td>\n",
              "      <td>0.0</td>\n",
              "      <td>0.0</td>\n",
              "      <td>0.0</td>\n",
              "      <td>0.0</td>\n",
              "      <td>0.0</td>\n",
              "      <td>0.0</td>\n",
              "      <td>0.0</td>\n",
              "      <td>0.0</td>\n",
              "      <td>0.0</td>\n",
              "      <td>0.0</td>\n",
              "      <td>0.0</td>\n",
              "      <td>0.0</td>\n",
              "      <td>0.0</td>\n",
              "      <td>0.0</td>\n",
              "      <td>0.0</td>\n",
              "      <td>0.0</td>\n",
              "      <td>0.0</td>\n",
              "      <td>0.0</td>\n",
              "      <td>0.0</td>\n",
              "      <td>1.0</td>\n",
              "      <td>0.0</td>\n",
              "      <td>0.0</td>\n",
              "      <td>1.0</td>\n",
              "      <td>0.0</td>\n",
              "      <td>1.0</td>\n",
              "      <td>0.0</td>\n",
              "      <td>1.0</td>\n",
              "    </tr>\n",
              "    <tr>\n",
              "      <th>86</th>\n",
              "      <td>87.0</td>\n",
              "      <td>15400.000000</td>\n",
              "      <td>3.0</td>\n",
              "      <td>5.0</td>\n",
              "      <td>2.0</td>\n",
              "      <td>0.0</td>\n",
              "      <td>0.0</td>\n",
              "      <td>0.0</td>\n",
              "      <td>0.0</td>\n",
              "      <td>0.0</td>\n",
              "      <td>0.0</td>\n",
              "      <td>0.0</td>\n",
              "      <td>0.0</td>\n",
              "      <td>0.0</td>\n",
              "      <td>0.0</td>\n",
              "      <td>1.0</td>\n",
              "      <td>0.0</td>\n",
              "      <td>1.0</td>\n",
              "      <td>0.0</td>\n",
              "      <td>0.0</td>\n",
              "      <td>0.0</td>\n",
              "      <td>1.0</td>\n",
              "      <td>0.0</td>\n",
              "      <td>0.0</td>\n",
              "      <td>0.0</td>\n",
              "      <td>0.0</td>\n",
              "      <td>0.0</td>\n",
              "      <td>0.0</td>\n",
              "      <td>0.0</td>\n",
              "      <td>0.0</td>\n",
              "      <td>0.0</td>\n",
              "      <td>0.0</td>\n",
              "      <td>0.0</td>\n",
              "      <td>0.0</td>\n",
              "      <td>0.0</td>\n",
              "      <td>0.0</td>\n",
              "      <td>0.0</td>\n",
              "      <td>0.0</td>\n",
              "      <td>0.0</td>\n",
              "      <td>0.0</td>\n",
              "      <td>...</td>\n",
              "      <td>0.0</td>\n",
              "      <td>0.0</td>\n",
              "      <td>0.0</td>\n",
              "      <td>0.0</td>\n",
              "      <td>0.0</td>\n",
              "      <td>0.0</td>\n",
              "      <td>0.0</td>\n",
              "      <td>0.0</td>\n",
              "      <td>0.0</td>\n",
              "      <td>0.0</td>\n",
              "      <td>0.0</td>\n",
              "      <td>0.0</td>\n",
              "      <td>0.0</td>\n",
              "      <td>0.0</td>\n",
              "      <td>0.0</td>\n",
              "      <td>0.0</td>\n",
              "      <td>0.0</td>\n",
              "      <td>0.0</td>\n",
              "      <td>0.0</td>\n",
              "      <td>0.0</td>\n",
              "      <td>0.0</td>\n",
              "      <td>0.0</td>\n",
              "      <td>0.0</td>\n",
              "      <td>0.0</td>\n",
              "      <td>0.0</td>\n",
              "      <td>0.0</td>\n",
              "      <td>0.0</td>\n",
              "      <td>0.0</td>\n",
              "      <td>0.0</td>\n",
              "      <td>0.0</td>\n",
              "      <td>1.0</td>\n",
              "      <td>0.0</td>\n",
              "      <td>0.0</td>\n",
              "      <td>0.0</td>\n",
              "      <td>0.0</td>\n",
              "      <td>1.0</td>\n",
              "      <td>0.0</td>\n",
              "      <td>1.0</td>\n",
              "      <td>0.0</td>\n",
              "      <td>1.0</td>\n",
              "    </tr>\n",
              "    <tr>\n",
              "      <th>87</th>\n",
              "      <td>88.0</td>\n",
              "      <td>15400.000000</td>\n",
              "      <td>6.0</td>\n",
              "      <td>5.0</td>\n",
              "      <td>5.0</td>\n",
              "      <td>0.0</td>\n",
              "      <td>0.0</td>\n",
              "      <td>0.0</td>\n",
              "      <td>0.0</td>\n",
              "      <td>0.0</td>\n",
              "      <td>0.0</td>\n",
              "      <td>0.0</td>\n",
              "      <td>0.0</td>\n",
              "      <td>0.0</td>\n",
              "      <td>0.0</td>\n",
              "      <td>1.0</td>\n",
              "      <td>0.0</td>\n",
              "      <td>1.0</td>\n",
              "      <td>0.0</td>\n",
              "      <td>0.0</td>\n",
              "      <td>0.0</td>\n",
              "      <td>1.0</td>\n",
              "      <td>0.0</td>\n",
              "      <td>0.0</td>\n",
              "      <td>0.0</td>\n",
              "      <td>0.0</td>\n",
              "      <td>0.0</td>\n",
              "      <td>0.0</td>\n",
              "      <td>0.0</td>\n",
              "      <td>0.0</td>\n",
              "      <td>0.0</td>\n",
              "      <td>0.0</td>\n",
              "      <td>0.0</td>\n",
              "      <td>0.0</td>\n",
              "      <td>0.0</td>\n",
              "      <td>0.0</td>\n",
              "      <td>0.0</td>\n",
              "      <td>0.0</td>\n",
              "      <td>0.0</td>\n",
              "      <td>0.0</td>\n",
              "      <td>...</td>\n",
              "      <td>0.0</td>\n",
              "      <td>0.0</td>\n",
              "      <td>0.0</td>\n",
              "      <td>0.0</td>\n",
              "      <td>0.0</td>\n",
              "      <td>0.0</td>\n",
              "      <td>0.0</td>\n",
              "      <td>0.0</td>\n",
              "      <td>0.0</td>\n",
              "      <td>0.0</td>\n",
              "      <td>0.0</td>\n",
              "      <td>0.0</td>\n",
              "      <td>0.0</td>\n",
              "      <td>0.0</td>\n",
              "      <td>0.0</td>\n",
              "      <td>0.0</td>\n",
              "      <td>0.0</td>\n",
              "      <td>0.0</td>\n",
              "      <td>0.0</td>\n",
              "      <td>0.0</td>\n",
              "      <td>0.0</td>\n",
              "      <td>0.0</td>\n",
              "      <td>0.0</td>\n",
              "      <td>0.0</td>\n",
              "      <td>0.0</td>\n",
              "      <td>0.0</td>\n",
              "      <td>0.0</td>\n",
              "      <td>1.0</td>\n",
              "      <td>0.0</td>\n",
              "      <td>0.0</td>\n",
              "      <td>0.0</td>\n",
              "      <td>0.0</td>\n",
              "      <td>0.0</td>\n",
              "      <td>0.0</td>\n",
              "      <td>0.0</td>\n",
              "      <td>1.0</td>\n",
              "      <td>0.0</td>\n",
              "      <td>1.0</td>\n",
              "      <td>0.0</td>\n",
              "      <td>1.0</td>\n",
              "    </tr>\n",
              "    <tr>\n",
              "      <th>88</th>\n",
              "      <td>89.0</td>\n",
              "      <td>15400.000000</td>\n",
              "      <td>3.0</td>\n",
              "      <td>5.0</td>\n",
              "      <td>2.0</td>\n",
              "      <td>0.0</td>\n",
              "      <td>0.0</td>\n",
              "      <td>0.0</td>\n",
              "      <td>0.0</td>\n",
              "      <td>0.0</td>\n",
              "      <td>0.0</td>\n",
              "      <td>0.0</td>\n",
              "      <td>0.0</td>\n",
              "      <td>0.0</td>\n",
              "      <td>0.0</td>\n",
              "      <td>1.0</td>\n",
              "      <td>1.0</td>\n",
              "      <td>0.0</td>\n",
              "      <td>0.0</td>\n",
              "      <td>0.0</td>\n",
              "      <td>0.0</td>\n",
              "      <td>0.0</td>\n",
              "      <td>0.0</td>\n",
              "      <td>1.0</td>\n",
              "      <td>0.0</td>\n",
              "      <td>0.0</td>\n",
              "      <td>0.0</td>\n",
              "      <td>0.0</td>\n",
              "      <td>0.0</td>\n",
              "      <td>0.0</td>\n",
              "      <td>0.0</td>\n",
              "      <td>0.0</td>\n",
              "      <td>0.0</td>\n",
              "      <td>0.0</td>\n",
              "      <td>0.0</td>\n",
              "      <td>0.0</td>\n",
              "      <td>0.0</td>\n",
              "      <td>0.0</td>\n",
              "      <td>0.0</td>\n",
              "      <td>0.0</td>\n",
              "      <td>...</td>\n",
              "      <td>0.0</td>\n",
              "      <td>0.0</td>\n",
              "      <td>0.0</td>\n",
              "      <td>0.0</td>\n",
              "      <td>0.0</td>\n",
              "      <td>0.0</td>\n",
              "      <td>0.0</td>\n",
              "      <td>0.0</td>\n",
              "      <td>0.0</td>\n",
              "      <td>0.0</td>\n",
              "      <td>0.0</td>\n",
              "      <td>0.0</td>\n",
              "      <td>0.0</td>\n",
              "      <td>0.0</td>\n",
              "      <td>0.0</td>\n",
              "      <td>0.0</td>\n",
              "      <td>0.0</td>\n",
              "      <td>0.0</td>\n",
              "      <td>0.0</td>\n",
              "      <td>0.0</td>\n",
              "      <td>0.0</td>\n",
              "      <td>0.0</td>\n",
              "      <td>0.0</td>\n",
              "      <td>0.0</td>\n",
              "      <td>0.0</td>\n",
              "      <td>0.0</td>\n",
              "      <td>0.0</td>\n",
              "      <td>0.0</td>\n",
              "      <td>0.0</td>\n",
              "      <td>0.0</td>\n",
              "      <td>0.0</td>\n",
              "      <td>0.0</td>\n",
              "      <td>1.0</td>\n",
              "      <td>0.0</td>\n",
              "      <td>0.0</td>\n",
              "      <td>1.0</td>\n",
              "      <td>0.0</td>\n",
              "      <td>1.0</td>\n",
              "      <td>0.0</td>\n",
              "      <td>1.0</td>\n",
              "    </tr>\n",
              "    <tr>\n",
              "      <th>89</th>\n",
              "      <td>90.0</td>\n",
              "      <td>3681.000000</td>\n",
              "      <td>1.0</td>\n",
              "      <td>5.0</td>\n",
              "      <td>0.0</td>\n",
              "      <td>0.0</td>\n",
              "      <td>0.0</td>\n",
              "      <td>0.0</td>\n",
              "      <td>0.0</td>\n",
              "      <td>0.0</td>\n",
              "      <td>0.0</td>\n",
              "      <td>1.0</td>\n",
              "      <td>0.0</td>\n",
              "      <td>0.0</td>\n",
              "      <td>0.0</td>\n",
              "      <td>0.0</td>\n",
              "      <td>1.0</td>\n",
              "      <td>0.0</td>\n",
              "      <td>0.0</td>\n",
              "      <td>0.0</td>\n",
              "      <td>0.0</td>\n",
              "      <td>1.0</td>\n",
              "      <td>0.0</td>\n",
              "      <td>0.0</td>\n",
              "      <td>0.0</td>\n",
              "      <td>0.0</td>\n",
              "      <td>0.0</td>\n",
              "      <td>0.0</td>\n",
              "      <td>0.0</td>\n",
              "      <td>0.0</td>\n",
              "      <td>0.0</td>\n",
              "      <td>0.0</td>\n",
              "      <td>0.0</td>\n",
              "      <td>0.0</td>\n",
              "      <td>0.0</td>\n",
              "      <td>0.0</td>\n",
              "      <td>0.0</td>\n",
              "      <td>0.0</td>\n",
              "      <td>0.0</td>\n",
              "      <td>0.0</td>\n",
              "      <td>...</td>\n",
              "      <td>0.0</td>\n",
              "      <td>0.0</td>\n",
              "      <td>0.0</td>\n",
              "      <td>0.0</td>\n",
              "      <td>0.0</td>\n",
              "      <td>0.0</td>\n",
              "      <td>0.0</td>\n",
              "      <td>0.0</td>\n",
              "      <td>0.0</td>\n",
              "      <td>0.0</td>\n",
              "      <td>0.0</td>\n",
              "      <td>0.0</td>\n",
              "      <td>0.0</td>\n",
              "      <td>0.0</td>\n",
              "      <td>0.0</td>\n",
              "      <td>0.0</td>\n",
              "      <td>0.0</td>\n",
              "      <td>0.0</td>\n",
              "      <td>0.0</td>\n",
              "      <td>0.0</td>\n",
              "      <td>0.0</td>\n",
              "      <td>0.0</td>\n",
              "      <td>0.0</td>\n",
              "      <td>0.0</td>\n",
              "      <td>0.0</td>\n",
              "      <td>0.0</td>\n",
              "      <td>0.0</td>\n",
              "      <td>0.0</td>\n",
              "      <td>0.0</td>\n",
              "      <td>0.0</td>\n",
              "      <td>0.0</td>\n",
              "      <td>0.0</td>\n",
              "      <td>0.0</td>\n",
              "      <td>1.0</td>\n",
              "      <td>0.0</td>\n",
              "      <td>1.0</td>\n",
              "      <td>1.0</td>\n",
              "      <td>0.0</td>\n",
              "      <td>0.0</td>\n",
              "      <td>1.0</td>\n",
              "    </tr>\n",
              "  </tbody>\n",
              "</table>\n",
              "<p>90 rows × 83 columns</p>\n",
              "</div>"
            ],
            "text/plain": [
              "    FlightNumber   PayloadMass  Flights  ...  Reused_True  Legs_False  Legs_True\n",
              "0            1.0   6104.959412      1.0  ...          0.0         1.0        0.0\n",
              "1            2.0    525.000000      1.0  ...          0.0         1.0        0.0\n",
              "2            3.0    677.000000      1.0  ...          0.0         1.0        0.0\n",
              "3            4.0    500.000000      1.0  ...          0.0         1.0        0.0\n",
              "4            5.0   3170.000000      1.0  ...          0.0         1.0        0.0\n",
              "..           ...           ...      ...  ...          ...         ...        ...\n",
              "85          86.0  15400.000000      2.0  ...          1.0         0.0        1.0\n",
              "86          87.0  15400.000000      3.0  ...          1.0         0.0        1.0\n",
              "87          88.0  15400.000000      6.0  ...          1.0         0.0        1.0\n",
              "88          89.0  15400.000000      3.0  ...          1.0         0.0        1.0\n",
              "89          90.0   3681.000000      1.0  ...          0.0         0.0        1.0\n",
              "\n",
              "[90 rows x 83 columns]"
            ]
          },
          "metadata": {},
          "execution_count": 4
        }
      ]
    },
    {
      "cell_type": "markdown",
      "metadata": {
        "id": "QN5VlhfDBgX0"
      },
      "source": [
        "## TASK  1\n"
      ]
    },
    {
      "cell_type": "markdown",
      "metadata": {
        "id": "sd5SjqZSBgX1"
      },
      "source": [
        "Create a NumPy array from the column <code>Class</code> in <code>data</code>, by applying the method <code>to_numpy()</code>  then\n",
        "assign it  to the variable <code>Y</code>,make sure the output is a  Pandas series (only one bracket df\\['name of  column']).\n"
      ]
    },
    {
      "cell_type": "code",
      "metadata": {
        "id": "djh4JYo1BgX1"
      },
      "source": [
        "Y = data[\"Class\"].to_numpy()"
      ],
      "execution_count": 5,
      "outputs": []
    },
    {
      "cell_type": "markdown",
      "metadata": {
        "id": "mBDRCWWCBgX2"
      },
      "source": [
        "## TASK  2\n"
      ]
    },
    {
      "cell_type": "markdown",
      "metadata": {
        "id": "HAIv9jP1BgX2"
      },
      "source": [
        "Standardize the data in <code>X</code> then reassign it to the variable  <code>X</code> using the transform provided below.\n"
      ]
    },
    {
      "cell_type": "code",
      "metadata": {
        "id": "3J5Mdg3ZBgX3"
      },
      "source": [
        "# students get this \n",
        "transform = preprocessing.StandardScaler()"
      ],
      "execution_count": 6,
      "outputs": []
    },
    {
      "cell_type": "code",
      "metadata": {
        "colab": {
          "base_uri": "https://localhost:8080/",
          "height": 444
        },
        "id": "4M208opiBgX5",
        "outputId": "8c69ce1d-858d-4b29-b36c-8a7b43cb527f"
      },
      "source": [
        "x_scaled = transform.fit_transform(X)\n",
        "X = pd.DataFrame(x_scaled)\n",
        "X"
      ],
      "execution_count": 7,
      "outputs": [
        {
          "output_type": "execute_result",
          "data": {
            "text/html": [
              "<div>\n",
              "<style scoped>\n",
              "    .dataframe tbody tr th:only-of-type {\n",
              "        vertical-align: middle;\n",
              "    }\n",
              "\n",
              "    .dataframe tbody tr th {\n",
              "        vertical-align: top;\n",
              "    }\n",
              "\n",
              "    .dataframe thead th {\n",
              "        text-align: right;\n",
              "    }\n",
              "</style>\n",
              "<table border=\"1\" class=\"dataframe\">\n",
              "  <thead>\n",
              "    <tr style=\"text-align: right;\">\n",
              "      <th></th>\n",
              "      <th>0</th>\n",
              "      <th>1</th>\n",
              "      <th>2</th>\n",
              "      <th>3</th>\n",
              "      <th>4</th>\n",
              "      <th>5</th>\n",
              "      <th>6</th>\n",
              "      <th>7</th>\n",
              "      <th>8</th>\n",
              "      <th>9</th>\n",
              "      <th>10</th>\n",
              "      <th>11</th>\n",
              "      <th>12</th>\n",
              "      <th>13</th>\n",
              "      <th>14</th>\n",
              "      <th>15</th>\n",
              "      <th>16</th>\n",
              "      <th>17</th>\n",
              "      <th>18</th>\n",
              "      <th>19</th>\n",
              "      <th>20</th>\n",
              "      <th>21</th>\n",
              "      <th>22</th>\n",
              "      <th>23</th>\n",
              "      <th>24</th>\n",
              "      <th>25</th>\n",
              "      <th>26</th>\n",
              "      <th>27</th>\n",
              "      <th>28</th>\n",
              "      <th>29</th>\n",
              "      <th>30</th>\n",
              "      <th>31</th>\n",
              "      <th>32</th>\n",
              "      <th>33</th>\n",
              "      <th>34</th>\n",
              "      <th>35</th>\n",
              "      <th>36</th>\n",
              "      <th>37</th>\n",
              "      <th>38</th>\n",
              "      <th>39</th>\n",
              "      <th>...</th>\n",
              "      <th>43</th>\n",
              "      <th>44</th>\n",
              "      <th>45</th>\n",
              "      <th>46</th>\n",
              "      <th>47</th>\n",
              "      <th>48</th>\n",
              "      <th>49</th>\n",
              "      <th>50</th>\n",
              "      <th>51</th>\n",
              "      <th>52</th>\n",
              "      <th>53</th>\n",
              "      <th>54</th>\n",
              "      <th>55</th>\n",
              "      <th>56</th>\n",
              "      <th>57</th>\n",
              "      <th>58</th>\n",
              "      <th>59</th>\n",
              "      <th>60</th>\n",
              "      <th>61</th>\n",
              "      <th>62</th>\n",
              "      <th>63</th>\n",
              "      <th>64</th>\n",
              "      <th>65</th>\n",
              "      <th>66</th>\n",
              "      <th>67</th>\n",
              "      <th>68</th>\n",
              "      <th>69</th>\n",
              "      <th>70</th>\n",
              "      <th>71</th>\n",
              "      <th>72</th>\n",
              "      <th>73</th>\n",
              "      <th>74</th>\n",
              "      <th>75</th>\n",
              "      <th>76</th>\n",
              "      <th>77</th>\n",
              "      <th>78</th>\n",
              "      <th>79</th>\n",
              "      <th>80</th>\n",
              "      <th>81</th>\n",
              "      <th>82</th>\n",
              "    </tr>\n",
              "  </thead>\n",
              "  <tbody>\n",
              "    <tr>\n",
              "      <th>0</th>\n",
              "      <td>-1.712912</td>\n",
              "      <td>-1.948145e-16</td>\n",
              "      <td>-0.653913</td>\n",
              "      <td>-1.575895</td>\n",
              "      <td>-0.973440</td>\n",
              "      <td>-0.106</td>\n",
              "      <td>-0.106</td>\n",
              "      <td>-0.654654</td>\n",
              "      <td>-0.106</td>\n",
              "      <td>-0.551677</td>\n",
              "      <td>3.443420</td>\n",
              "      <td>-0.185695</td>\n",
              "      <td>-0.333333</td>\n",
              "      <td>-0.106</td>\n",
              "      <td>-0.242536</td>\n",
              "      <td>-0.429198</td>\n",
              "      <td>0.797724</td>\n",
              "      <td>-0.568796</td>\n",
              "      <td>-0.410891</td>\n",
              "      <td>-0.410891</td>\n",
              "      <td>-0.150756</td>\n",
              "      <td>-0.797724</td>\n",
              "      <td>-0.150756</td>\n",
              "      <td>-0.392232</td>\n",
              "      <td>9.433981</td>\n",
              "      <td>-0.106000</td>\n",
              "      <td>-0.106000</td>\n",
              "      <td>-0.106000</td>\n",
              "      <td>-0.106000</td>\n",
              "      <td>-0.106</td>\n",
              "      <td>-0.106</td>\n",
              "      <td>-0.106</td>\n",
              "      <td>-0.106</td>\n",
              "      <td>-0.106</td>\n",
              "      <td>-0.106</td>\n",
              "      <td>-0.106</td>\n",
              "      <td>-0.106</td>\n",
              "      <td>-0.106</td>\n",
              "      <td>-0.106</td>\n",
              "      <td>-0.106</td>\n",
              "      <td>...</td>\n",
              "      <td>-0.150756</td>\n",
              "      <td>-0.106</td>\n",
              "      <td>-0.106</td>\n",
              "      <td>-0.106</td>\n",
              "      <td>-0.106</td>\n",
              "      <td>-0.106</td>\n",
              "      <td>-0.150756</td>\n",
              "      <td>-0.106</td>\n",
              "      <td>-0.150756</td>\n",
              "      <td>-0.150756</td>\n",
              "      <td>-0.106</td>\n",
              "      <td>-0.150756</td>\n",
              "      <td>-0.150756</td>\n",
              "      <td>-0.106</td>\n",
              "      <td>-0.106</td>\n",
              "      <td>-0.150756</td>\n",
              "      <td>-0.150756</td>\n",
              "      <td>-0.150756</td>\n",
              "      <td>-0.106</td>\n",
              "      <td>-0.106</td>\n",
              "      <td>-0.106</td>\n",
              "      <td>-0.150756</td>\n",
              "      <td>-0.215666</td>\n",
              "      <td>-0.185695</td>\n",
              "      <td>-0.215666</td>\n",
              "      <td>-0.267261</td>\n",
              "      <td>-0.106</td>\n",
              "      <td>-0.242536</td>\n",
              "      <td>-0.106</td>\n",
              "      <td>-0.215666</td>\n",
              "      <td>-0.185695</td>\n",
              "      <td>-0.215666</td>\n",
              "      <td>-0.185695</td>\n",
              "      <td>-0.106000</td>\n",
              "      <td>1.870829</td>\n",
              "      <td>-1.870829</td>\n",
              "      <td>0.835532</td>\n",
              "      <td>-0.835532</td>\n",
              "      <td>1.933091</td>\n",
              "      <td>-1.933091</td>\n",
              "    </tr>\n",
              "    <tr>\n",
              "      <th>1</th>\n",
              "      <td>-1.674419</td>\n",
              "      <td>-1.195232e+00</td>\n",
              "      <td>-0.653913</td>\n",
              "      <td>-1.575895</td>\n",
              "      <td>-0.973440</td>\n",
              "      <td>-0.106</td>\n",
              "      <td>-0.106</td>\n",
              "      <td>-0.654654</td>\n",
              "      <td>-0.106</td>\n",
              "      <td>-0.551677</td>\n",
              "      <td>3.443420</td>\n",
              "      <td>-0.185695</td>\n",
              "      <td>-0.333333</td>\n",
              "      <td>-0.106</td>\n",
              "      <td>-0.242536</td>\n",
              "      <td>-0.429198</td>\n",
              "      <td>0.797724</td>\n",
              "      <td>-0.568796</td>\n",
              "      <td>-0.410891</td>\n",
              "      <td>-0.410891</td>\n",
              "      <td>-0.150756</td>\n",
              "      <td>-0.797724</td>\n",
              "      <td>-0.150756</td>\n",
              "      <td>-0.392232</td>\n",
              "      <td>-0.106000</td>\n",
              "      <td>9.433981</td>\n",
              "      <td>-0.106000</td>\n",
              "      <td>-0.106000</td>\n",
              "      <td>-0.106000</td>\n",
              "      <td>-0.106</td>\n",
              "      <td>-0.106</td>\n",
              "      <td>-0.106</td>\n",
              "      <td>-0.106</td>\n",
              "      <td>-0.106</td>\n",
              "      <td>-0.106</td>\n",
              "      <td>-0.106</td>\n",
              "      <td>-0.106</td>\n",
              "      <td>-0.106</td>\n",
              "      <td>-0.106</td>\n",
              "      <td>-0.106</td>\n",
              "      <td>...</td>\n",
              "      <td>-0.150756</td>\n",
              "      <td>-0.106</td>\n",
              "      <td>-0.106</td>\n",
              "      <td>-0.106</td>\n",
              "      <td>-0.106</td>\n",
              "      <td>-0.106</td>\n",
              "      <td>-0.150756</td>\n",
              "      <td>-0.106</td>\n",
              "      <td>-0.150756</td>\n",
              "      <td>-0.150756</td>\n",
              "      <td>-0.106</td>\n",
              "      <td>-0.150756</td>\n",
              "      <td>-0.150756</td>\n",
              "      <td>-0.106</td>\n",
              "      <td>-0.106</td>\n",
              "      <td>-0.150756</td>\n",
              "      <td>-0.150756</td>\n",
              "      <td>-0.150756</td>\n",
              "      <td>-0.106</td>\n",
              "      <td>-0.106</td>\n",
              "      <td>-0.106</td>\n",
              "      <td>-0.150756</td>\n",
              "      <td>-0.215666</td>\n",
              "      <td>-0.185695</td>\n",
              "      <td>-0.215666</td>\n",
              "      <td>-0.267261</td>\n",
              "      <td>-0.106</td>\n",
              "      <td>-0.242536</td>\n",
              "      <td>-0.106</td>\n",
              "      <td>-0.215666</td>\n",
              "      <td>-0.185695</td>\n",
              "      <td>-0.215666</td>\n",
              "      <td>-0.185695</td>\n",
              "      <td>-0.106000</td>\n",
              "      <td>1.870829</td>\n",
              "      <td>-1.870829</td>\n",
              "      <td>0.835532</td>\n",
              "      <td>-0.835532</td>\n",
              "      <td>1.933091</td>\n",
              "      <td>-1.933091</td>\n",
              "    </tr>\n",
              "    <tr>\n",
              "      <th>2</th>\n",
              "      <td>-1.635927</td>\n",
              "      <td>-1.162673e+00</td>\n",
              "      <td>-0.653913</td>\n",
              "      <td>-1.575895</td>\n",
              "      <td>-0.973440</td>\n",
              "      <td>-0.106</td>\n",
              "      <td>-0.106</td>\n",
              "      <td>-0.654654</td>\n",
              "      <td>-0.106</td>\n",
              "      <td>1.812654</td>\n",
              "      <td>-0.290409</td>\n",
              "      <td>-0.185695</td>\n",
              "      <td>-0.333333</td>\n",
              "      <td>-0.106</td>\n",
              "      <td>-0.242536</td>\n",
              "      <td>-0.429198</td>\n",
              "      <td>0.797724</td>\n",
              "      <td>-0.568796</td>\n",
              "      <td>-0.410891</td>\n",
              "      <td>-0.410891</td>\n",
              "      <td>-0.150756</td>\n",
              "      <td>-0.797724</td>\n",
              "      <td>-0.150756</td>\n",
              "      <td>-0.392232</td>\n",
              "      <td>-0.106000</td>\n",
              "      <td>-0.106000</td>\n",
              "      <td>9.433981</td>\n",
              "      <td>-0.106000</td>\n",
              "      <td>-0.106000</td>\n",
              "      <td>-0.106</td>\n",
              "      <td>-0.106</td>\n",
              "      <td>-0.106</td>\n",
              "      <td>-0.106</td>\n",
              "      <td>-0.106</td>\n",
              "      <td>-0.106</td>\n",
              "      <td>-0.106</td>\n",
              "      <td>-0.106</td>\n",
              "      <td>-0.106</td>\n",
              "      <td>-0.106</td>\n",
              "      <td>-0.106</td>\n",
              "      <td>...</td>\n",
              "      <td>-0.150756</td>\n",
              "      <td>-0.106</td>\n",
              "      <td>-0.106</td>\n",
              "      <td>-0.106</td>\n",
              "      <td>-0.106</td>\n",
              "      <td>-0.106</td>\n",
              "      <td>-0.150756</td>\n",
              "      <td>-0.106</td>\n",
              "      <td>-0.150756</td>\n",
              "      <td>-0.150756</td>\n",
              "      <td>-0.106</td>\n",
              "      <td>-0.150756</td>\n",
              "      <td>-0.150756</td>\n",
              "      <td>-0.106</td>\n",
              "      <td>-0.106</td>\n",
              "      <td>-0.150756</td>\n",
              "      <td>-0.150756</td>\n",
              "      <td>-0.150756</td>\n",
              "      <td>-0.106</td>\n",
              "      <td>-0.106</td>\n",
              "      <td>-0.106</td>\n",
              "      <td>-0.150756</td>\n",
              "      <td>-0.215666</td>\n",
              "      <td>-0.185695</td>\n",
              "      <td>-0.215666</td>\n",
              "      <td>-0.267261</td>\n",
              "      <td>-0.106</td>\n",
              "      <td>-0.242536</td>\n",
              "      <td>-0.106</td>\n",
              "      <td>-0.215666</td>\n",
              "      <td>-0.185695</td>\n",
              "      <td>-0.215666</td>\n",
              "      <td>-0.185695</td>\n",
              "      <td>-0.106000</td>\n",
              "      <td>1.870829</td>\n",
              "      <td>-1.870829</td>\n",
              "      <td>0.835532</td>\n",
              "      <td>-0.835532</td>\n",
              "      <td>1.933091</td>\n",
              "      <td>-1.933091</td>\n",
              "    </tr>\n",
              "    <tr>\n",
              "      <th>3</th>\n",
              "      <td>-1.597434</td>\n",
              "      <td>-1.200587e+00</td>\n",
              "      <td>-0.653913</td>\n",
              "      <td>-1.575895</td>\n",
              "      <td>-0.973440</td>\n",
              "      <td>-0.106</td>\n",
              "      <td>-0.106</td>\n",
              "      <td>-0.654654</td>\n",
              "      <td>-0.106</td>\n",
              "      <td>-0.551677</td>\n",
              "      <td>-0.290409</td>\n",
              "      <td>-0.185695</td>\n",
              "      <td>3.000000</td>\n",
              "      <td>-0.106</td>\n",
              "      <td>-0.242536</td>\n",
              "      <td>-0.429198</td>\n",
              "      <td>-1.253566</td>\n",
              "      <td>-0.568796</td>\n",
              "      <td>2.433737</td>\n",
              "      <td>-0.410891</td>\n",
              "      <td>-0.150756</td>\n",
              "      <td>-0.797724</td>\n",
              "      <td>-0.150756</td>\n",
              "      <td>-0.392232</td>\n",
              "      <td>-0.106000</td>\n",
              "      <td>-0.106000</td>\n",
              "      <td>-0.106000</td>\n",
              "      <td>9.433981</td>\n",
              "      <td>-0.106000</td>\n",
              "      <td>-0.106</td>\n",
              "      <td>-0.106</td>\n",
              "      <td>-0.106</td>\n",
              "      <td>-0.106</td>\n",
              "      <td>-0.106</td>\n",
              "      <td>-0.106</td>\n",
              "      <td>-0.106</td>\n",
              "      <td>-0.106</td>\n",
              "      <td>-0.106</td>\n",
              "      <td>-0.106</td>\n",
              "      <td>-0.106</td>\n",
              "      <td>...</td>\n",
              "      <td>-0.150756</td>\n",
              "      <td>-0.106</td>\n",
              "      <td>-0.106</td>\n",
              "      <td>-0.106</td>\n",
              "      <td>-0.106</td>\n",
              "      <td>-0.106</td>\n",
              "      <td>-0.150756</td>\n",
              "      <td>-0.106</td>\n",
              "      <td>-0.150756</td>\n",
              "      <td>-0.150756</td>\n",
              "      <td>-0.106</td>\n",
              "      <td>-0.150756</td>\n",
              "      <td>-0.150756</td>\n",
              "      <td>-0.106</td>\n",
              "      <td>-0.106</td>\n",
              "      <td>-0.150756</td>\n",
              "      <td>-0.150756</td>\n",
              "      <td>-0.150756</td>\n",
              "      <td>-0.106</td>\n",
              "      <td>-0.106</td>\n",
              "      <td>-0.106</td>\n",
              "      <td>-0.150756</td>\n",
              "      <td>-0.215666</td>\n",
              "      <td>-0.185695</td>\n",
              "      <td>-0.215666</td>\n",
              "      <td>-0.267261</td>\n",
              "      <td>-0.106</td>\n",
              "      <td>-0.242536</td>\n",
              "      <td>-0.106</td>\n",
              "      <td>-0.215666</td>\n",
              "      <td>-0.185695</td>\n",
              "      <td>-0.215666</td>\n",
              "      <td>-0.185695</td>\n",
              "      <td>-0.106000</td>\n",
              "      <td>1.870829</td>\n",
              "      <td>-1.870829</td>\n",
              "      <td>0.835532</td>\n",
              "      <td>-0.835532</td>\n",
              "      <td>1.933091</td>\n",
              "      <td>-1.933091</td>\n",
              "    </tr>\n",
              "    <tr>\n",
              "      <th>4</th>\n",
              "      <td>-1.558942</td>\n",
              "      <td>-6.286706e-01</td>\n",
              "      <td>-0.653913</td>\n",
              "      <td>-1.575895</td>\n",
              "      <td>-0.973440</td>\n",
              "      <td>-0.106</td>\n",
              "      <td>-0.106</td>\n",
              "      <td>1.527525</td>\n",
              "      <td>-0.106</td>\n",
              "      <td>-0.551677</td>\n",
              "      <td>-0.290409</td>\n",
              "      <td>-0.185695</td>\n",
              "      <td>-0.333333</td>\n",
              "      <td>-0.106</td>\n",
              "      <td>-0.242536</td>\n",
              "      <td>-0.429198</td>\n",
              "      <td>0.797724</td>\n",
              "      <td>-0.568796</td>\n",
              "      <td>-0.410891</td>\n",
              "      <td>-0.410891</td>\n",
              "      <td>-0.150756</td>\n",
              "      <td>-0.797724</td>\n",
              "      <td>-0.150756</td>\n",
              "      <td>-0.392232</td>\n",
              "      <td>-0.106000</td>\n",
              "      <td>-0.106000</td>\n",
              "      <td>-0.106000</td>\n",
              "      <td>-0.106000</td>\n",
              "      <td>9.433981</td>\n",
              "      <td>-0.106</td>\n",
              "      <td>-0.106</td>\n",
              "      <td>-0.106</td>\n",
              "      <td>-0.106</td>\n",
              "      <td>-0.106</td>\n",
              "      <td>-0.106</td>\n",
              "      <td>-0.106</td>\n",
              "      <td>-0.106</td>\n",
              "      <td>-0.106</td>\n",
              "      <td>-0.106</td>\n",
              "      <td>-0.106</td>\n",
              "      <td>...</td>\n",
              "      <td>-0.150756</td>\n",
              "      <td>-0.106</td>\n",
              "      <td>-0.106</td>\n",
              "      <td>-0.106</td>\n",
              "      <td>-0.106</td>\n",
              "      <td>-0.106</td>\n",
              "      <td>-0.150756</td>\n",
              "      <td>-0.106</td>\n",
              "      <td>-0.150756</td>\n",
              "      <td>-0.150756</td>\n",
              "      <td>-0.106</td>\n",
              "      <td>-0.150756</td>\n",
              "      <td>-0.150756</td>\n",
              "      <td>-0.106</td>\n",
              "      <td>-0.106</td>\n",
              "      <td>-0.150756</td>\n",
              "      <td>-0.150756</td>\n",
              "      <td>-0.150756</td>\n",
              "      <td>-0.106</td>\n",
              "      <td>-0.106</td>\n",
              "      <td>-0.106</td>\n",
              "      <td>-0.150756</td>\n",
              "      <td>-0.215666</td>\n",
              "      <td>-0.185695</td>\n",
              "      <td>-0.215666</td>\n",
              "      <td>-0.267261</td>\n",
              "      <td>-0.106</td>\n",
              "      <td>-0.242536</td>\n",
              "      <td>-0.106</td>\n",
              "      <td>-0.215666</td>\n",
              "      <td>-0.185695</td>\n",
              "      <td>-0.215666</td>\n",
              "      <td>-0.185695</td>\n",
              "      <td>-0.106000</td>\n",
              "      <td>1.870829</td>\n",
              "      <td>-1.870829</td>\n",
              "      <td>0.835532</td>\n",
              "      <td>-0.835532</td>\n",
              "      <td>1.933091</td>\n",
              "      <td>-1.933091</td>\n",
              "    </tr>\n",
              "    <tr>\n",
              "      <th>...</th>\n",
              "      <td>...</td>\n",
              "      <td>...</td>\n",
              "      <td>...</td>\n",
              "      <td>...</td>\n",
              "      <td>...</td>\n",
              "      <td>...</td>\n",
              "      <td>...</td>\n",
              "      <td>...</td>\n",
              "      <td>...</td>\n",
              "      <td>...</td>\n",
              "      <td>...</td>\n",
              "      <td>...</td>\n",
              "      <td>...</td>\n",
              "      <td>...</td>\n",
              "      <td>...</td>\n",
              "      <td>...</td>\n",
              "      <td>...</td>\n",
              "      <td>...</td>\n",
              "      <td>...</td>\n",
              "      <td>...</td>\n",
              "      <td>...</td>\n",
              "      <td>...</td>\n",
              "      <td>...</td>\n",
              "      <td>...</td>\n",
              "      <td>...</td>\n",
              "      <td>...</td>\n",
              "      <td>...</td>\n",
              "      <td>...</td>\n",
              "      <td>...</td>\n",
              "      <td>...</td>\n",
              "      <td>...</td>\n",
              "      <td>...</td>\n",
              "      <td>...</td>\n",
              "      <td>...</td>\n",
              "      <td>...</td>\n",
              "      <td>...</td>\n",
              "      <td>...</td>\n",
              "      <td>...</td>\n",
              "      <td>...</td>\n",
              "      <td>...</td>\n",
              "      <td>...</td>\n",
              "      <td>...</td>\n",
              "      <td>...</td>\n",
              "      <td>...</td>\n",
              "      <td>...</td>\n",
              "      <td>...</td>\n",
              "      <td>...</td>\n",
              "      <td>...</td>\n",
              "      <td>...</td>\n",
              "      <td>...</td>\n",
              "      <td>...</td>\n",
              "      <td>...</td>\n",
              "      <td>...</td>\n",
              "      <td>...</td>\n",
              "      <td>...</td>\n",
              "      <td>...</td>\n",
              "      <td>...</td>\n",
              "      <td>...</td>\n",
              "      <td>...</td>\n",
              "      <td>...</td>\n",
              "      <td>...</td>\n",
              "      <td>...</td>\n",
              "      <td>...</td>\n",
              "      <td>...</td>\n",
              "      <td>...</td>\n",
              "      <td>...</td>\n",
              "      <td>...</td>\n",
              "      <td>...</td>\n",
              "      <td>...</td>\n",
              "      <td>...</td>\n",
              "      <td>...</td>\n",
              "      <td>...</td>\n",
              "      <td>...</td>\n",
              "      <td>...</td>\n",
              "      <td>...</td>\n",
              "      <td>...</td>\n",
              "      <td>...</td>\n",
              "      <td>...</td>\n",
              "      <td>...</td>\n",
              "      <td>...</td>\n",
              "      <td>...</td>\n",
              "    </tr>\n",
              "    <tr>\n",
              "      <th>85</th>\n",
              "      <td>1.558942</td>\n",
              "      <td>1.991005e+00</td>\n",
              "      <td>0.174991</td>\n",
              "      <td>0.945537</td>\n",
              "      <td>0.202528</td>\n",
              "      <td>-0.106</td>\n",
              "      <td>-0.106</td>\n",
              "      <td>-0.654654</td>\n",
              "      <td>-0.106</td>\n",
              "      <td>-0.551677</td>\n",
              "      <td>-0.290409</td>\n",
              "      <td>-0.185695</td>\n",
              "      <td>-0.333333</td>\n",
              "      <td>-0.106</td>\n",
              "      <td>-0.242536</td>\n",
              "      <td>2.329929</td>\n",
              "      <td>-1.253566</td>\n",
              "      <td>1.758098</td>\n",
              "      <td>-0.410891</td>\n",
              "      <td>-0.410891</td>\n",
              "      <td>-0.150756</td>\n",
              "      <td>1.253566</td>\n",
              "      <td>-0.150756</td>\n",
              "      <td>-0.392232</td>\n",
              "      <td>-0.106000</td>\n",
              "      <td>-0.106000</td>\n",
              "      <td>-0.106000</td>\n",
              "      <td>-0.106000</td>\n",
              "      <td>-0.106000</td>\n",
              "      <td>-0.106</td>\n",
              "      <td>-0.106</td>\n",
              "      <td>-0.106</td>\n",
              "      <td>-0.106</td>\n",
              "      <td>-0.106</td>\n",
              "      <td>-0.106</td>\n",
              "      <td>-0.106</td>\n",
              "      <td>-0.106</td>\n",
              "      <td>-0.106</td>\n",
              "      <td>-0.106</td>\n",
              "      <td>-0.106</td>\n",
              "      <td>...</td>\n",
              "      <td>-0.150756</td>\n",
              "      <td>-0.106</td>\n",
              "      <td>-0.106</td>\n",
              "      <td>-0.106</td>\n",
              "      <td>-0.106</td>\n",
              "      <td>-0.106</td>\n",
              "      <td>-0.150756</td>\n",
              "      <td>-0.106</td>\n",
              "      <td>-0.150756</td>\n",
              "      <td>-0.150756</td>\n",
              "      <td>-0.106</td>\n",
              "      <td>-0.150756</td>\n",
              "      <td>-0.150756</td>\n",
              "      <td>-0.106</td>\n",
              "      <td>-0.106</td>\n",
              "      <td>-0.150756</td>\n",
              "      <td>-0.150756</td>\n",
              "      <td>-0.150756</td>\n",
              "      <td>-0.106</td>\n",
              "      <td>-0.106</td>\n",
              "      <td>-0.106</td>\n",
              "      <td>-0.150756</td>\n",
              "      <td>-0.215666</td>\n",
              "      <td>-0.185695</td>\n",
              "      <td>-0.215666</td>\n",
              "      <td>-0.267261</td>\n",
              "      <td>-0.106</td>\n",
              "      <td>-0.242536</td>\n",
              "      <td>-0.106</td>\n",
              "      <td>-0.215666</td>\n",
              "      <td>-0.185695</td>\n",
              "      <td>-0.215666</td>\n",
              "      <td>5.385165</td>\n",
              "      <td>-0.106000</td>\n",
              "      <td>-0.534522</td>\n",
              "      <td>0.534522</td>\n",
              "      <td>-1.196843</td>\n",
              "      <td>1.196843</td>\n",
              "      <td>-0.517306</td>\n",
              "      <td>0.517306</td>\n",
              "    </tr>\n",
              "    <tr>\n",
              "      <th>86</th>\n",
              "      <td>1.597434</td>\n",
              "      <td>1.991005e+00</td>\n",
              "      <td>1.003894</td>\n",
              "      <td>0.945537</td>\n",
              "      <td>0.202528</td>\n",
              "      <td>-0.106</td>\n",
              "      <td>-0.106</td>\n",
              "      <td>-0.654654</td>\n",
              "      <td>-0.106</td>\n",
              "      <td>-0.551677</td>\n",
              "      <td>-0.290409</td>\n",
              "      <td>-0.185695</td>\n",
              "      <td>-0.333333</td>\n",
              "      <td>-0.106</td>\n",
              "      <td>-0.242536</td>\n",
              "      <td>2.329929</td>\n",
              "      <td>-1.253566</td>\n",
              "      <td>1.758098</td>\n",
              "      <td>-0.410891</td>\n",
              "      <td>-0.410891</td>\n",
              "      <td>-0.150756</td>\n",
              "      <td>1.253566</td>\n",
              "      <td>-0.150756</td>\n",
              "      <td>-0.392232</td>\n",
              "      <td>-0.106000</td>\n",
              "      <td>-0.106000</td>\n",
              "      <td>-0.106000</td>\n",
              "      <td>-0.106000</td>\n",
              "      <td>-0.106000</td>\n",
              "      <td>-0.106</td>\n",
              "      <td>-0.106</td>\n",
              "      <td>-0.106</td>\n",
              "      <td>-0.106</td>\n",
              "      <td>-0.106</td>\n",
              "      <td>-0.106</td>\n",
              "      <td>-0.106</td>\n",
              "      <td>-0.106</td>\n",
              "      <td>-0.106</td>\n",
              "      <td>-0.106</td>\n",
              "      <td>-0.106</td>\n",
              "      <td>...</td>\n",
              "      <td>-0.150756</td>\n",
              "      <td>-0.106</td>\n",
              "      <td>-0.106</td>\n",
              "      <td>-0.106</td>\n",
              "      <td>-0.106</td>\n",
              "      <td>-0.106</td>\n",
              "      <td>-0.150756</td>\n",
              "      <td>-0.106</td>\n",
              "      <td>-0.150756</td>\n",
              "      <td>-0.150756</td>\n",
              "      <td>-0.106</td>\n",
              "      <td>-0.150756</td>\n",
              "      <td>-0.150756</td>\n",
              "      <td>-0.106</td>\n",
              "      <td>-0.106</td>\n",
              "      <td>-0.150756</td>\n",
              "      <td>-0.150756</td>\n",
              "      <td>-0.150756</td>\n",
              "      <td>-0.106</td>\n",
              "      <td>-0.106</td>\n",
              "      <td>-0.106</td>\n",
              "      <td>-0.150756</td>\n",
              "      <td>-0.215666</td>\n",
              "      <td>-0.185695</td>\n",
              "      <td>-0.215666</td>\n",
              "      <td>-0.267261</td>\n",
              "      <td>-0.106</td>\n",
              "      <td>-0.242536</td>\n",
              "      <td>-0.106</td>\n",
              "      <td>-0.215666</td>\n",
              "      <td>5.385165</td>\n",
              "      <td>-0.215666</td>\n",
              "      <td>-0.185695</td>\n",
              "      <td>-0.106000</td>\n",
              "      <td>-0.534522</td>\n",
              "      <td>0.534522</td>\n",
              "      <td>-1.196843</td>\n",
              "      <td>1.196843</td>\n",
              "      <td>-0.517306</td>\n",
              "      <td>0.517306</td>\n",
              "    </tr>\n",
              "    <tr>\n",
              "      <th>87</th>\n",
              "      <td>1.635927</td>\n",
              "      <td>1.991005e+00</td>\n",
              "      <td>3.490605</td>\n",
              "      <td>0.945537</td>\n",
              "      <td>1.966480</td>\n",
              "      <td>-0.106</td>\n",
              "      <td>-0.106</td>\n",
              "      <td>-0.654654</td>\n",
              "      <td>-0.106</td>\n",
              "      <td>-0.551677</td>\n",
              "      <td>-0.290409</td>\n",
              "      <td>-0.185695</td>\n",
              "      <td>-0.333333</td>\n",
              "      <td>-0.106</td>\n",
              "      <td>-0.242536</td>\n",
              "      <td>2.329929</td>\n",
              "      <td>-1.253566</td>\n",
              "      <td>1.758098</td>\n",
              "      <td>-0.410891</td>\n",
              "      <td>-0.410891</td>\n",
              "      <td>-0.150756</td>\n",
              "      <td>1.253566</td>\n",
              "      <td>-0.150756</td>\n",
              "      <td>-0.392232</td>\n",
              "      <td>-0.106000</td>\n",
              "      <td>-0.106000</td>\n",
              "      <td>-0.106000</td>\n",
              "      <td>-0.106000</td>\n",
              "      <td>-0.106000</td>\n",
              "      <td>-0.106</td>\n",
              "      <td>-0.106</td>\n",
              "      <td>-0.106</td>\n",
              "      <td>-0.106</td>\n",
              "      <td>-0.106</td>\n",
              "      <td>-0.106</td>\n",
              "      <td>-0.106</td>\n",
              "      <td>-0.106</td>\n",
              "      <td>-0.106</td>\n",
              "      <td>-0.106</td>\n",
              "      <td>-0.106</td>\n",
              "      <td>...</td>\n",
              "      <td>-0.150756</td>\n",
              "      <td>-0.106</td>\n",
              "      <td>-0.106</td>\n",
              "      <td>-0.106</td>\n",
              "      <td>-0.106</td>\n",
              "      <td>-0.106</td>\n",
              "      <td>-0.150756</td>\n",
              "      <td>-0.106</td>\n",
              "      <td>-0.150756</td>\n",
              "      <td>-0.150756</td>\n",
              "      <td>-0.106</td>\n",
              "      <td>-0.150756</td>\n",
              "      <td>-0.150756</td>\n",
              "      <td>-0.106</td>\n",
              "      <td>-0.106</td>\n",
              "      <td>-0.150756</td>\n",
              "      <td>-0.150756</td>\n",
              "      <td>-0.150756</td>\n",
              "      <td>-0.106</td>\n",
              "      <td>-0.106</td>\n",
              "      <td>-0.106</td>\n",
              "      <td>-0.150756</td>\n",
              "      <td>-0.215666</td>\n",
              "      <td>-0.185695</td>\n",
              "      <td>-0.215666</td>\n",
              "      <td>-0.267261</td>\n",
              "      <td>-0.106</td>\n",
              "      <td>4.123106</td>\n",
              "      <td>-0.106</td>\n",
              "      <td>-0.215666</td>\n",
              "      <td>-0.185695</td>\n",
              "      <td>-0.215666</td>\n",
              "      <td>-0.185695</td>\n",
              "      <td>-0.106000</td>\n",
              "      <td>-0.534522</td>\n",
              "      <td>0.534522</td>\n",
              "      <td>-1.196843</td>\n",
              "      <td>1.196843</td>\n",
              "      <td>-0.517306</td>\n",
              "      <td>0.517306</td>\n",
              "    </tr>\n",
              "    <tr>\n",
              "      <th>88</th>\n",
              "      <td>1.674419</td>\n",
              "      <td>1.991005e+00</td>\n",
              "      <td>1.003894</td>\n",
              "      <td>0.945537</td>\n",
              "      <td>0.202528</td>\n",
              "      <td>-0.106</td>\n",
              "      <td>-0.106</td>\n",
              "      <td>-0.654654</td>\n",
              "      <td>-0.106</td>\n",
              "      <td>-0.551677</td>\n",
              "      <td>-0.290409</td>\n",
              "      <td>-0.185695</td>\n",
              "      <td>-0.333333</td>\n",
              "      <td>-0.106</td>\n",
              "      <td>-0.242536</td>\n",
              "      <td>2.329929</td>\n",
              "      <td>0.797724</td>\n",
              "      <td>-0.568796</td>\n",
              "      <td>-0.410891</td>\n",
              "      <td>-0.410891</td>\n",
              "      <td>-0.150756</td>\n",
              "      <td>-0.797724</td>\n",
              "      <td>-0.150756</td>\n",
              "      <td>2.549510</td>\n",
              "      <td>-0.106000</td>\n",
              "      <td>-0.106000</td>\n",
              "      <td>-0.106000</td>\n",
              "      <td>-0.106000</td>\n",
              "      <td>-0.106000</td>\n",
              "      <td>-0.106</td>\n",
              "      <td>-0.106</td>\n",
              "      <td>-0.106</td>\n",
              "      <td>-0.106</td>\n",
              "      <td>-0.106</td>\n",
              "      <td>-0.106</td>\n",
              "      <td>-0.106</td>\n",
              "      <td>-0.106</td>\n",
              "      <td>-0.106</td>\n",
              "      <td>-0.106</td>\n",
              "      <td>-0.106</td>\n",
              "      <td>...</td>\n",
              "      <td>-0.150756</td>\n",
              "      <td>-0.106</td>\n",
              "      <td>-0.106</td>\n",
              "      <td>-0.106</td>\n",
              "      <td>-0.106</td>\n",
              "      <td>-0.106</td>\n",
              "      <td>-0.150756</td>\n",
              "      <td>-0.106</td>\n",
              "      <td>-0.150756</td>\n",
              "      <td>-0.150756</td>\n",
              "      <td>-0.106</td>\n",
              "      <td>-0.150756</td>\n",
              "      <td>-0.150756</td>\n",
              "      <td>-0.106</td>\n",
              "      <td>-0.106</td>\n",
              "      <td>-0.150756</td>\n",
              "      <td>-0.150756</td>\n",
              "      <td>-0.150756</td>\n",
              "      <td>-0.106</td>\n",
              "      <td>-0.106</td>\n",
              "      <td>-0.106</td>\n",
              "      <td>-0.150756</td>\n",
              "      <td>-0.215666</td>\n",
              "      <td>-0.185695</td>\n",
              "      <td>-0.215666</td>\n",
              "      <td>-0.267261</td>\n",
              "      <td>-0.106</td>\n",
              "      <td>-0.242536</td>\n",
              "      <td>-0.106</td>\n",
              "      <td>-0.215666</td>\n",
              "      <td>-0.185695</td>\n",
              "      <td>-0.215666</td>\n",
              "      <td>5.385165</td>\n",
              "      <td>-0.106000</td>\n",
              "      <td>-0.534522</td>\n",
              "      <td>0.534522</td>\n",
              "      <td>-1.196843</td>\n",
              "      <td>1.196843</td>\n",
              "      <td>-0.517306</td>\n",
              "      <td>0.517306</td>\n",
              "    </tr>\n",
              "    <tr>\n",
              "      <th>89</th>\n",
              "      <td>1.712912</td>\n",
              "      <td>-5.192140e-01</td>\n",
              "      <td>-0.653913</td>\n",
              "      <td>0.945537</td>\n",
              "      <td>-0.973440</td>\n",
              "      <td>-0.106</td>\n",
              "      <td>-0.106</td>\n",
              "      <td>-0.654654</td>\n",
              "      <td>-0.106</td>\n",
              "      <td>-0.551677</td>\n",
              "      <td>-0.290409</td>\n",
              "      <td>5.385165</td>\n",
              "      <td>-0.333333</td>\n",
              "      <td>-0.106</td>\n",
              "      <td>-0.242536</td>\n",
              "      <td>-0.429198</td>\n",
              "      <td>0.797724</td>\n",
              "      <td>-0.568796</td>\n",
              "      <td>-0.410891</td>\n",
              "      <td>-0.410891</td>\n",
              "      <td>-0.150756</td>\n",
              "      <td>1.253566</td>\n",
              "      <td>-0.150756</td>\n",
              "      <td>-0.392232</td>\n",
              "      <td>-0.106000</td>\n",
              "      <td>-0.106000</td>\n",
              "      <td>-0.106000</td>\n",
              "      <td>-0.106000</td>\n",
              "      <td>-0.106000</td>\n",
              "      <td>-0.106</td>\n",
              "      <td>-0.106</td>\n",
              "      <td>-0.106</td>\n",
              "      <td>-0.106</td>\n",
              "      <td>-0.106</td>\n",
              "      <td>-0.106</td>\n",
              "      <td>-0.106</td>\n",
              "      <td>-0.106</td>\n",
              "      <td>-0.106</td>\n",
              "      <td>-0.106</td>\n",
              "      <td>-0.106</td>\n",
              "      <td>...</td>\n",
              "      <td>-0.150756</td>\n",
              "      <td>-0.106</td>\n",
              "      <td>-0.106</td>\n",
              "      <td>-0.106</td>\n",
              "      <td>-0.106</td>\n",
              "      <td>-0.106</td>\n",
              "      <td>-0.150756</td>\n",
              "      <td>-0.106</td>\n",
              "      <td>-0.150756</td>\n",
              "      <td>-0.150756</td>\n",
              "      <td>-0.106</td>\n",
              "      <td>-0.150756</td>\n",
              "      <td>-0.150756</td>\n",
              "      <td>-0.106</td>\n",
              "      <td>-0.106</td>\n",
              "      <td>-0.150756</td>\n",
              "      <td>-0.150756</td>\n",
              "      <td>-0.150756</td>\n",
              "      <td>-0.106</td>\n",
              "      <td>-0.106</td>\n",
              "      <td>-0.106</td>\n",
              "      <td>-0.150756</td>\n",
              "      <td>-0.215666</td>\n",
              "      <td>-0.185695</td>\n",
              "      <td>-0.215666</td>\n",
              "      <td>-0.267261</td>\n",
              "      <td>-0.106</td>\n",
              "      <td>-0.242536</td>\n",
              "      <td>-0.106</td>\n",
              "      <td>-0.215666</td>\n",
              "      <td>-0.185695</td>\n",
              "      <td>-0.215666</td>\n",
              "      <td>-0.185695</td>\n",
              "      <td>9.433981</td>\n",
              "      <td>-0.534522</td>\n",
              "      <td>0.534522</td>\n",
              "      <td>0.835532</td>\n",
              "      <td>-0.835532</td>\n",
              "      <td>-0.517306</td>\n",
              "      <td>0.517306</td>\n",
              "    </tr>\n",
              "  </tbody>\n",
              "</table>\n",
              "<p>90 rows × 83 columns</p>\n",
              "</div>"
            ],
            "text/plain": [
              "          0             1         2   ...        80        81        82\n",
              "0  -1.712912 -1.948145e-16 -0.653913  ... -0.835532  1.933091 -1.933091\n",
              "1  -1.674419 -1.195232e+00 -0.653913  ... -0.835532  1.933091 -1.933091\n",
              "2  -1.635927 -1.162673e+00 -0.653913  ... -0.835532  1.933091 -1.933091\n",
              "3  -1.597434 -1.200587e+00 -0.653913  ... -0.835532  1.933091 -1.933091\n",
              "4  -1.558942 -6.286706e-01 -0.653913  ... -0.835532  1.933091 -1.933091\n",
              "..       ...           ...       ...  ...       ...       ...       ...\n",
              "85  1.558942  1.991005e+00  0.174991  ...  1.196843 -0.517306  0.517306\n",
              "86  1.597434  1.991005e+00  1.003894  ...  1.196843 -0.517306  0.517306\n",
              "87  1.635927  1.991005e+00  3.490605  ...  1.196843 -0.517306  0.517306\n",
              "88  1.674419  1.991005e+00  1.003894  ...  1.196843 -0.517306  0.517306\n",
              "89  1.712912 -5.192140e-01 -0.653913  ... -0.835532 -0.517306  0.517306\n",
              "\n",
              "[90 rows x 83 columns]"
            ]
          },
          "metadata": {},
          "execution_count": 7
        }
      ]
    },
    {
      "cell_type": "markdown",
      "metadata": {
        "id": "-1E0obPNBgX5"
      },
      "source": [
        "We split the data into training and testing data using the  function  <code>train_test_split</code>.   The training data is divided into validation data, a second set used for training  data; then the models are trained and hyperparameters are selected using the function <code>GridSearchCV</code>.\n"
      ]
    },
    {
      "cell_type": "markdown",
      "metadata": {
        "id": "I0NJ11sOBgX6"
      },
      "source": [
        "## TASK  3\n"
      ]
    },
    {
      "cell_type": "markdown",
      "metadata": {
        "id": "c9rubllnBgX6"
      },
      "source": [
        "Use the function train_test_split to split the data X and Y into training and test data. Set the parameter test_size to  0.2 and random_state to 2. The training data and test data should be assigned to the following labels.\n"
      ]
    },
    {
      "cell_type": "markdown",
      "metadata": {
        "id": "n4-0YxfMBgX7"
      },
      "source": [
        "<code>X_train, X_test, Y_train, Y_test</code>\n"
      ]
    },
    {
      "cell_type": "code",
      "metadata": {
        "id": "7ZKy8mDNBgX9"
      },
      "source": [
        "X_train, X_test, Y_train, Y_test = train_test_split(X, Y, test_size=0.2, random_state=2)"
      ],
      "execution_count": 8,
      "outputs": []
    },
    {
      "cell_type": "markdown",
      "metadata": {
        "id": "yxBOdHlBBgX9"
      },
      "source": [
        "we can see we only have 18 test samples.\n"
      ]
    },
    {
      "cell_type": "code",
      "metadata": {
        "colab": {
          "base_uri": "https://localhost:8080/"
        },
        "id": "6HfiYfRzBgX-",
        "outputId": "86beaf29-e10f-4d85-ed8c-6ea24cea07f0"
      },
      "source": [
        "Y_test.shape"
      ],
      "execution_count": 9,
      "outputs": [
        {
          "output_type": "execute_result",
          "data": {
            "text/plain": [
              "(18,)"
            ]
          },
          "metadata": {},
          "execution_count": 9
        }
      ]
    },
    {
      "cell_type": "markdown",
      "metadata": {
        "id": "mFrrpFxCBgX-"
      },
      "source": [
        "## TASK  4\n"
      ]
    },
    {
      "cell_type": "markdown",
      "metadata": {
        "id": "8dwxb9_1BgX-"
      },
      "source": [
        "Create a logistic regression object  then create a  GridSearchCV object  <code>logreg_cv</code> with cv = 10.  Fit the object to find the best parameters from the dictionary <code>parameters</code>.\n"
      ]
    },
    {
      "cell_type": "code",
      "metadata": {
        "id": "5JK_OraWBgX_"
      },
      "source": [
        "parameters ={'C':[0.01,0.1,1],\n",
        "             'penalty':['l2'],\n",
        "             'solver':['lbfgs']}"
      ],
      "execution_count": 10,
      "outputs": []
    },
    {
      "cell_type": "code",
      "metadata": {
        "colab": {
          "base_uri": "https://localhost:8080/"
        },
        "id": "nahWPxpbBgYB",
        "outputId": "b0269675-a258-49fd-9f98-93e6fffabc64"
      },
      "source": [
        "parameters ={\"C\":[0.01,0.1,1],'penalty':['l2'], 'solver':['lbfgs']}# l1 lasso l2 ridge\n",
        "lr=LogisticRegression()\n",
        "logreg_cv = GridSearchCV(lr, parameters, cv = 10)\n",
        "logreg_cv.fit(X_train, Y_train)"
      ],
      "execution_count": 12,
      "outputs": [
        {
          "output_type": "execute_result",
          "data": {
            "text/plain": [
              "GridSearchCV(cv=10, error_score=nan,\n",
              "             estimator=LogisticRegression(C=1.0, class_weight=None, dual=False,\n",
              "                                          fit_intercept=True,\n",
              "                                          intercept_scaling=1, l1_ratio=None,\n",
              "                                          max_iter=100, multi_class='auto',\n",
              "                                          n_jobs=None, penalty='l2',\n",
              "                                          random_state=None, solver='lbfgs',\n",
              "                                          tol=0.0001, verbose=0,\n",
              "                                          warm_start=False),\n",
              "             iid='deprecated', n_jobs=None,\n",
              "             param_grid={'C': [0.01, 0.1, 1], 'penalty': ['l2'],\n",
              "                         'solver': ['lbfgs']},\n",
              "             pre_dispatch='2*n_jobs', refit=True, return_train_score=False,\n",
              "             scoring=None, verbose=0)"
            ]
          },
          "metadata": {},
          "execution_count": 12
        }
      ]
    },
    {
      "cell_type": "markdown",
      "metadata": {
        "id": "_rfAvsv3BgYB"
      },
      "source": [
        "We output the <code>GridSearchCV</code> object for logistic regression. We display the best parameters using the data attribute <code>best_params\\_</code> and the accuracy on the validation data using the data attribute <code>best_score\\_</code>.\n"
      ]
    },
    {
      "cell_type": "code",
      "metadata": {
        "colab": {
          "base_uri": "https://localhost:8080/"
        },
        "id": "q9oH4VnEBgYC",
        "outputId": "347b1492-3b40-49d6-95e1-b111bd8dd858"
      },
      "source": [
        "print(\"tuned hpyerparameters :(best parameters) \",logreg_cv.best_params_)\n",
        "print(\"accuracy :\",logreg_cv.best_score_)"
      ],
      "execution_count": 13,
      "outputs": [
        {
          "output_type": "stream",
          "name": "stdout",
          "text": [
            "tuned hpyerparameters :(best parameters)  {'C': 0.01, 'penalty': 'l2', 'solver': 'lbfgs'}\n",
            "accuracy : 0.8464285714285713\n"
          ]
        }
      ]
    },
    {
      "cell_type": "markdown",
      "metadata": {
        "id": "AvK591xcBgYC"
      },
      "source": [
        "## TASK  5\n"
      ]
    },
    {
      "cell_type": "markdown",
      "metadata": {
        "id": "9HDInmSUBgYD"
      },
      "source": [
        "Calculate the accuracy on the test data using the method <code>score</code>:\n"
      ]
    },
    {
      "cell_type": "code",
      "metadata": {
        "colab": {
          "base_uri": "https://localhost:8080/"
        },
        "id": "FhrnObnNBgYE",
        "outputId": "1b9d2c22-546f-4b26-921c-bbac55d07569"
      },
      "source": [
        "accu=[]\n",
        "methods=[]\n",
        "accu.append(logreg_cv.score(X_test,Y_test))\n",
        "methods.append('logistic regression')\n",
        "logreg_cv.score(X_test,Y_test)"
      ],
      "execution_count": 14,
      "outputs": [
        {
          "output_type": "execute_result",
          "data": {
            "text/plain": [
              "0.8333333333333334"
            ]
          },
          "metadata": {},
          "execution_count": 14
        }
      ]
    },
    {
      "cell_type": "markdown",
      "metadata": {
        "id": "kSzNTmEfBgYF"
      },
      "source": [
        "Lets look at the confusion matrix:\n"
      ]
    },
    {
      "cell_type": "code",
      "metadata": {
        "colab": {
          "base_uri": "https://localhost:8080/",
          "height": 295
        },
        "id": "qBTt0YGDBgYF",
        "outputId": "bf5557fb-acb5-4855-bd8e-803223605a40"
      },
      "source": [
        "yhat=logreg_cv.predict(X_test)\n",
        "plot_confusion_matrix(Y_test,yhat)"
      ],
      "execution_count": 15,
      "outputs": [
        {
          "output_type": "display_data",
          "data": {
            "image/png": "[encoded data removed]",
            "text/plain": [
              "<Figure size 432x288 with 2 Axes>"
            ]
          },
          "metadata": {
            "needs_background": "light"
          }
        }
      ]
    },
    {
      "cell_type": "markdown",
      "metadata": {
        "id": "P6u_MhbvBgYG"
      },
      "source": [
        "Examining the confusion matrix, we see that logistic regression can distinguish between the different classes.  We see that the major problem is false positives.\n"
      ]
    },
    {
      "cell_type": "markdown",
      "metadata": {
        "id": "gQG1E5P8BgYI"
      },
      "source": [
        "## TASK  6\n"
      ]
    },
    {
      "cell_type": "markdown",
      "metadata": {
        "id": "6tP0zSxZBgYI"
      },
      "source": [
        "Create a support vector machine object then  create a  <code>GridSearchCV</code> object  <code>svm_cv</code> with cv - 10.  Fit the object to find the best parameters from the dictionary <code>parameters</code>.\n"
      ]
    },
    {
      "cell_type": "code",
      "metadata": {
        "id": "IFU4qAbcBgYJ"
      },
      "source": [
        "parameters = {'kernel':('linear', 'rbf','poly','rbf', 'sigmoid'),\n",
        "              'C': np.logspace(-3, 3, 5),\n",
        "              'gamma':np.logspace(-3, 3, 5)}\n",
        "svm = SVC()"
      ],
      "execution_count": 16,
      "outputs": []
    },
    {
      "cell_type": "code",
      "metadata": {
        "colab": {
          "base_uri": "https://localhost:8080/"
        },
        "id": "b_hlLWUoBgYL",
        "outputId": "6aff2978-338d-4fc3-ff36-28c3ae2a8bae"
      },
      "source": [
        "svm_cv = GridSearchCV(svm, parameters, cv = 10)\n",
        "svm_cv.fit(X_train, Y_train)"
      ],
      "execution_count": 17,
      "outputs": [
        {
          "output_type": "execute_result",
          "data": {
            "text/plain": [
              "GridSearchCV(cv=10, error_score=nan,\n",
              "             estimator=SVC(C=1.0, break_ties=False, cache_size=200,\n",
              "                           class_weight=None, coef0=0.0,\n",
              "                           decision_function_shape='ovr', degree=3,\n",
              "                           gamma='scale', kernel='rbf', max_iter=-1,\n",
              "                           probability=False, random_state=None, shrinking=True,\n",
              "                           tol=0.001, verbose=False),\n",
              "             iid='deprecated', n_jobs=None,\n",
              "             param_grid={'C': array([1.00000000e-03, 3.16227766e-02, 1.00000000e+00, 3.16227766e+01,\n",
              "       1.00000000e+03]),\n",
              "                         'gamma': array([1.00000000e-03, 3.16227766e-02, 1.00000000e+00, 3.16227766e+01,\n",
              "       1.00000000e+03]),\n",
              "                         'kernel': ('linear', 'rbf', 'poly', 'rbf', 'sigmoid')},\n",
              "             pre_dispatch='2*n_jobs', refit=True, return_train_score=False,\n",
              "             scoring=None, verbose=0)"
            ]
          },
          "metadata": {},
          "execution_count": 17
        }
      ]
    },
    {
      "cell_type": "code",
      "metadata": {
        "colab": {
          "base_uri": "https://localhost:8080/"
        },
        "id": "X5vwyR8dBgYL",
        "outputId": "2430031d-4c73-4d61-b098-9e5c5afb7041"
      },
      "source": [
        "print(\"tuned hpyerparameters :(best parameters) \",svm_cv.best_params_)\n",
        "print(\"accuracy :\",svm_cv.best_score_)"
      ],
      "execution_count": 18,
      "outputs": [
        {
          "output_type": "stream",
          "name": "stdout",
          "text": [
            "tuned hpyerparameters :(best parameters)  {'C': 1.0, 'gamma': 0.03162277660168379, 'kernel': 'sigmoid'}\n",
            "accuracy : 0.8482142857142856\n"
          ]
        }
      ]
    },
    {
      "cell_type": "markdown",
      "metadata": {
        "id": "EKWk2Ta3BgYM"
      },
      "source": [
        "## TASK  7\n"
      ]
    },
    {
      "cell_type": "markdown",
      "metadata": {
        "id": "_lMB5s5OBgYN"
      },
      "source": [
        "Calculate the accuracy on the test data using the method <code>score</code>:\n"
      ]
    },
    {
      "cell_type": "code",
      "metadata": {
        "colab": {
          "base_uri": "https://localhost:8080/"
        },
        "id": "ne8pAEMSBgYO",
        "outputId": "9b30d05e-025f-41ca-cae9-0165189f8801"
      },
      "source": [
        "accu.append(svm_cv.score(X_test,Y_test))\n",
        "methods.append('support vector machine')\n",
        "svm_cv.score(X_test,Y_test)"
      ],
      "execution_count": 19,
      "outputs": [
        {
          "output_type": "execute_result",
          "data": {
            "text/plain": [
              "0.8333333333333334"
            ]
          },
          "metadata": {},
          "execution_count": 19
        }
      ]
    },
    {
      "cell_type": "markdown",
      "metadata": {
        "id": "Lm74Ap4dBgYP"
      },
      "source": [
        "We can plot the confusion matrix\n"
      ]
    },
    {
      "cell_type": "code",
      "metadata": {
        "colab": {
          "base_uri": "https://localhost:8080/",
          "height": 295
        },
        "id": "I5jmfViuBgYP",
        "outputId": "3acf6b8f-e3c8-49fc-a94a-2adf4b83c85a"
      },
      "source": [
        "yhat=svm_cv.predict(X_test)\n",
        "plot_confusion_matrix(Y_test,yhat)"
      ],
      "execution_count": 20,
      "outputs": [
        {
          "output_type": "display_data",
          "data": {
            "image/png": "[encoded data removed]",
            "text/plain": [
              "<Figure size 432x288 with 2 Axes>"
            ]
          },
          "metadata": {
            "needs_background": "light"
          }
        }
      ]
    },
    {
      "cell_type": "markdown",
      "metadata": {
        "id": "Yquno2jgBgYP"
      },
      "source": [
        "## TASK  8\n"
      ]
    },
    {
      "cell_type": "markdown",
      "metadata": {
        "id": "wVTT5vVIBgYP"
      },
      "source": [
        "Create a decision tree classifier object then  create a  <code>GridSearchCV</code> object  <code>tree_cv</code> with cv = 10.  Fit the object to find the best parameters from the dictionary <code>parameters</code>.\n"
      ]
    },
    {
      "cell_type": "code",
      "metadata": {
        "id": "HetSPbaWBgYQ"
      },
      "source": [
        "parameters = {'criterion': ['gini', 'entropy'],\n",
        "     'splitter': ['best', 'random'],\n",
        "     'max_depth': [2*n for n in range(1,10)],\n",
        "     'max_features': ['auto', 'sqrt'],\n",
        "     'min_samples_leaf': [1, 2, 4],\n",
        "     'min_samples_split': [2, 5, 10]}\n",
        "\n",
        "tree = DecisionTreeClassifier()"
      ],
      "execution_count": 21,
      "outputs": []
    },
    {
      "cell_type": "code",
      "metadata": {
        "colab": {
          "base_uri": "https://localhost:8080/"
        },
        "id": "hAPVRM-MBgYQ",
        "outputId": "ce28353e-a3b2-4638-b7d4-812c367cf14b"
      },
      "source": [
        "tree_cv = GridSearchCV(tree, parameters, cv = 10)\n",
        "tree_cv.fit(X_train, Y_train)"
      ],
      "execution_count": 22,
      "outputs": [
        {
          "output_type": "execute_result",
          "data": {
            "text/plain": [
              "GridSearchCV(cv=10, error_score=nan,\n",
              "             estimator=DecisionTreeClassifier(ccp_alpha=0.0, class_weight=None,\n",
              "                                              criterion='gini', max_depth=None,\n",
              "                                              max_features=None,\n",
              "                                              max_leaf_nodes=None,\n",
              "                                              min_impurity_decrease=0.0,\n",
              "                                              min_impurity_split=None,\n",
              "                                              min_samples_leaf=1,\n",
              "                                              min_samples_split=2,\n",
              "                                              min_weight_fraction_leaf=0.0,\n",
              "                                              presort='deprecated',\n",
              "                                              random_state=None,\n",
              "                                              splitter='best'),\n",
              "             iid='deprecated', n_jobs=None,\n",
              "             param_grid={'criterion': ['gini', 'entropy'],\n",
              "                         'max_depth': [2, 4, 6, 8, 10, 12, 14, 16, 18],\n",
              "                         'max_features': ['auto', 'sqrt'],\n",
              "                         'min_samples_leaf': [1, 2, 4],\n",
              "                         'min_samples_split': [2, 5, 10],\n",
              "                         'splitter': ['best', 'random']},\n",
              "             pre_dispatch='2*n_jobs', refit=True, return_train_score=False,\n",
              "             scoring=None, verbose=0)"
            ]
          },
          "metadata": {},
          "execution_count": 22
        }
      ]
    },
    {
      "cell_type": "code",
      "metadata": {
        "colab": {
          "base_uri": "https://localhost:8080/"
        },
        "id": "e8kkD4X2BgYR",
        "outputId": "205f791f-bef2-46e1-aa1c-6d73c38ce822"
      },
      "source": [
        "print(\"tuned hpyerparameters :(best parameters) \",tree_cv.best_params_)\n",
        "print(\"accuracy :\",tree_cv.best_score_)"
      ],
      "execution_count": 23,
      "outputs": [
        {
          "output_type": "stream",
          "name": "stdout",
          "text": [
            "tuned hpyerparameters :(best parameters)  {'criterion': 'gini', 'max_depth': 10, 'max_features': 'sqrt', 'min_samples_leaf': 4, 'min_samples_split': 5, 'splitter': 'random'}\n",
            "accuracy : 0.8892857142857145\n"
          ]
        }
      ]
    },
    {
      "cell_type": "markdown",
      "metadata": {
        "id": "0XuS8BC8BgYR"
      },
      "source": [
        "## TASK  9\n"
      ]
    },
    {
      "cell_type": "markdown",
      "metadata": {
        "id": "kxe3RYMqBgYS"
      },
      "source": [
        "Calculate the accuracy of tree_cv on the test data using the method <code>score</code>:\n"
      ]
    },
    {
      "cell_type": "code",
      "metadata": {
        "colab": {
          "base_uri": "https://localhost:8080/"
        },
        "id": "oFviU-PXBgYS",
        "outputId": "14c5fdda-eda7-4484-9227-eec81ce4c5df"
      },
      "source": [
        "accu.append(tree_cv.score(X_test,Y_test))\n",
        "methods.append('decision tree classifier')\n",
        "tree_cv.score(X_test,Y_test)"
      ],
      "execution_count": 24,
      "outputs": [
        {
          "output_type": "execute_result",
          "data": {
            "text/plain": [
              "0.9444444444444444"
            ]
          },
          "metadata": {},
          "execution_count": 24
        }
      ]
    },
    {
      "cell_type": "markdown",
      "metadata": {
        "id": "VX-xaOOPBgYT"
      },
      "source": [
        "We can plot the confusion matrix\n"
      ]
    },
    {
      "cell_type": "code",
      "metadata": {
        "colab": {
          "base_uri": "https://localhost:8080/",
          "height": 295
        },
        "id": "COYD00b_BgYU",
        "outputId": "e2fbeb79-23c3-4af0-8f50-05a41dd80928"
      },
      "source": [
        "yhat = svm_cv.predict(X_test)\n",
        "plot_confusion_matrix(Y_test,yhat)"
      ],
      "execution_count": 25,
      "outputs": [
        {
          "output_type": "display_data",
          "data": {
            "image/png": "[encoded data removed]",
            "text/plain": [
              "<Figure size 432x288 with 2 Axes>"
            ]
          },
          "metadata": {
            "needs_background": "light"
          }
        }
      ]
    },
    {
      "cell_type": "markdown",
      "metadata": {
        "id": "5DirSRWxBgYU"
      },
      "source": [
        "## TASK  10\n"
      ]
    },
    {
      "cell_type": "markdown",
      "metadata": {
        "id": "6ocNb1RkBgYV"
      },
      "source": [
        "Create a k nearest neighbors object then  create a  <code>GridSearchCV</code> object  <code>knn_cv</code> with cv = 10.  Fit the object to find the best parameters from the dictionary <code>parameters</code>.\n"
      ]
    },
    {
      "cell_type": "code",
      "metadata": {
        "id": "9J73MxENBgYW"
      },
      "source": [
        "parameters = {'n_neighbors': [1, 2, 3, 4, 5, 6, 7, 8, 9, 10],\n",
        "              'algorithm': ['auto', 'ball_tree', 'kd_tree', 'brute'],\n",
        "              'p': [1,2]}\n",
        "\n",
        "KNN = KNeighborsClassifier()"
      ],
      "execution_count": 26,
      "outputs": []
    },
    {
      "cell_type": "code",
      "metadata": {
        "colab": {
          "base_uri": "https://localhost:8080/"
        },
        "id": "2L68twQbBgYX",
        "outputId": "3ffa5d1a-dbf8-473a-95ec-1e855714e2b7"
      },
      "source": [
        "knn_cv = GridSearchCV(KNN, parameters, cv = 10)\n",
        "knn_cv.fit(X_train, Y_train)\n"
      ],
      "execution_count": 27,
      "outputs": [
        {
          "output_type": "execute_result",
          "data": {
            "text/plain": [
              "GridSearchCV(cv=10, error_score=nan,\n",
              "             estimator=KNeighborsClassifier(algorithm='auto', leaf_size=30,\n",
              "                                            metric='minkowski',\n",
              "                                            metric_params=None, n_jobs=None,\n",
              "                                            n_neighbors=5, p=2,\n",
              "                                            weights='uniform'),\n",
              "             iid='deprecated', n_jobs=None,\n",
              "             param_grid={'algorithm': ['auto', 'ball_tree', 'kd_tree', 'brute'],\n",
              "                         'n_neighbors': [1, 2, 3, 4, 5, 6, 7, 8, 9, 10],\n",
              "                         'p': [1, 2]},\n",
              "             pre_dispatch='2*n_jobs', refit=True, return_train_score=False,\n",
              "             scoring=None, verbose=0)"
            ]
          },
          "metadata": {},
          "execution_count": 27
        }
      ]
    },
    {
      "cell_type": "code",
      "metadata": {
        "colab": {
          "base_uri": "https://localhost:8080/"
        },
        "id": "qkVAxHrJBgYX",
        "outputId": "241c61b4-76c0-491e-82fa-69f706dea7b6"
      },
      "source": [
        "print(\"tuned hpyerparameters :(best parameters) \",knn_cv.best_params_)\n",
        "print(\"accuracy :\",knn_cv.best_score_)"
      ],
      "execution_count": 28,
      "outputs": [
        {
          "output_type": "stream",
          "name": "stdout",
          "text": [
            "tuned hpyerparameters :(best parameters)  {'algorithm': 'auto', 'n_neighbors': 10, 'p': 1}\n",
            "accuracy : 0.8482142857142858\n"
          ]
        }
      ]
    },
    {
      "cell_type": "markdown",
      "metadata": {
        "id": "HKwRn-iyBgYY"
      },
      "source": [
        "## TASK  11\n"
      ]
    },
    {
      "cell_type": "markdown",
      "metadata": {
        "id": "B1QmZtBzBgYZ"
      },
      "source": [
        "Calculate the accuracy of tree_cv on the test data using the method <code>score</code>:\n"
      ]
    },
    {
      "cell_type": "code",
      "metadata": {
        "colab": {
          "base_uri": "https://localhost:8080/"
        },
        "id": "vHi_iTAgBgYa",
        "outputId": "183a881a-ab43-4073-a5b3-e963f88c1826"
      },
      "source": [
        "accu.append(knn_cv.score(X_test,Y_test))\n",
        "methods.append('k nearest neighbors')\n",
        "knn_cv.score(X_test,Y_test)"
      ],
      "execution_count": 29,
      "outputs": [
        {
          "output_type": "execute_result",
          "data": {
            "text/plain": [
              "0.8333333333333334"
            ]
          },
          "metadata": {},
          "execution_count": 29
        }
      ]
    },
    {
      "cell_type": "markdown",
      "metadata": {
        "id": "j6VnL_UjBgYa"
      },
      "source": [
        "We can plot the confusion matrix\n"
      ]
    },
    {
      "cell_type": "code",
      "metadata": {
        "colab": {
          "base_uri": "https://localhost:8080/",
          "height": 295
        },
        "id": "vJr_Cv9uBgYb",
        "outputId": "02c3ce90-ebb5-47dc-aa73-3f1677be00c1"
      },
      "source": [
        "yhat = knn_cv.predict(X_test)\n",
        "plot_confusion_matrix(Y_test,yhat)"
      ],
      "execution_count": 30,
      "outputs": [
        {
          "output_type": "display_data",
          "data": {
            "image/png": "[encoded data removed]",
            "text/plain": [
              "<Figure size 432x288 with 2 Axes>"
            ]
          },
          "metadata": {
            "needs_background": "light"
          }
        }
      ]
    },
    {
      "cell_type": "markdown",
      "metadata": {
        "id": "MeuLIabiBgYc"
      },
      "source": [
        "## TASK  12\n"
      ]
    },
    {
      "cell_type": "markdown",
      "metadata": {
        "id": "iKQxyxOeBgYc"
      },
      "source": [
        "Find the method performs best:\n"
      ]
    },
    {
      "cell_type": "code",
      "metadata": {
        "colab": {
          "base_uri": "https://localhost:8080/"
        },
        "id": "JLW5Bp_PBgYe",
        "outputId": "9134c35e-28fb-4572-bea1-fb21c30c3ef1"
      },
      "source": [
        "print(methods)\n",
        "print(accu)"
      ],
      "execution_count": 31,
      "outputs": [
        {
          "output_type": "stream",
          "name": "stdout",
          "text": [
            "['logistic regression', 'support vector machine', 'decision tree classifier', 'k nearest neighbors']\n",
            "[0.8333333333333334, 0.8333333333333334, 0.9444444444444444, 0.8333333333333334]\n"
          ]
        }
      ]
    },
    {
      "cell_type": "markdown",
      "metadata": {
        "id": "ycM0C8jtBgYe"
      },
      "source": [
        "## Authors\n"
      ]
    },
    {
      "cell_type": "markdown",
      "metadata": {
        "id": "QV9KBy_3BgYf"
      },
      "source": [
        "<a href=\"https://www.linkedin.com/in/joseph-s-50398b136/?utm_medium=Exinfluencer&utm_source=Exinfluencer&utm_content=000026UJ&utm_term=10006555&utm_id=NA-SkillsNetwork-Channel-SkillsNetworkCoursesIBMDS0321ENSkillsNetwork26802033-2021-01-01\">Joseph Santarcangelo</a> has a PhD in Electrical Engineering, his research focused on using machine learning, signal processing, and computer vision to determine how videos impact human cognition. Joseph has been working for IBM since he completed his PhD.\n"
      ]
    },
    {
      "cell_type": "markdown",
      "metadata": {
        "id": "pQFviPRkBgYf"
      },
      "source": [
        "## Change Log\n"
      ]
    },
    {
      "cell_type": "markdown",
      "metadata": {
        "id": "Sp688x1lBgYf"
      },
      "source": [
        "| Date (YYYY-MM-DD) | Version | Changed By    | Change Description      |\n",
        "| ----------------- | ------- | ------------- | ----------------------- |\n",
        "| 2021-08-31        | 1.1     | Lakshmi Holla | Modified markdown       |\n",
        "| 2020-09-20        | 1.0     | Joseph        | Modified Multiple Areas |\n"
      ]
    },
    {
      "cell_type": "markdown",
      "metadata": {
        "id": "0kNgPo9FBgYf"
      },
      "source": [
        "Copyright © 2020 IBM Corporation. All rights reserved.\n"
      ]
    }
  ]
}